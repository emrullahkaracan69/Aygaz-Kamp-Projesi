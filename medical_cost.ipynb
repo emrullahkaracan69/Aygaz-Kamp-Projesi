{
 "cells": [
  {
   "cell_type": "markdown",
   "metadata": {
    "id": "zqNze6wtzHux"
   },
   "source": [
    "# Medical Cost Personal Datasets"
   ]
  },
  {
   "cell_type": "code",
   "execution_count": 260,
   "metadata": {
    "executionInfo": {
     "elapsed": 300,
     "status": "ok",
     "timestamp": 1692978940099,
     "user": {
      "displayName": "Caner Ekinci",
      "userId": "08614425171747434730"
     },
     "user_tz": -180
    },
    "id": "9d5lgdhLxn-I"
   },
   "outputs": [],
   "source": [
    "# Importing packages\n",
    "import numpy as np\n",
    "import pandas as pd\n",
    "import matplotlib.pyplot as plt\n",
    "import seaborn as sns"
   ]
  },
  {
   "cell_type": "code",
   "execution_count": 212,
   "metadata": {
    "colab": {
     "base_uri": "https://localhost:8080/"
    },
    "executionInfo": {
     "elapsed": 2384,
     "status": "ok",
     "timestamp": 1692978696006,
     "user": {
      "displayName": "Caner Ekinci",
      "userId": "08614425171747434730"
     },
     "user_tz": -180
    },
    "id": "fortfW-gxvmp",
    "outputId": "8273f50c-580b-4713-ca0f-853f2545084e"
   },
   "outputs": [
    {
     "name": "stdout",
     "output_type": "stream",
     "text": [
      "Drive already mounted at /gdrive; to attempt to forcibly remount, call drive.mount(\"/gdrive\", force_remount=True).\n",
      "/gdrive\n"
     ]
    }
   ],
   "source": [
    "# Login to drive\n",
    "from google.colab import drive\n",
    "drive.mount('/gdrive')\n",
    "%cd /gdrive"
   ]
  },
  {
   "cell_type": "code",
   "execution_count": 213,
   "metadata": {
    "executionInfo": {
     "elapsed": 15,
     "status": "ok",
     "timestamp": 1692978696006,
     "user": {
      "displayName": "Caner Ekinci",
      "userId": "08614425171747434730"
     },
     "user_tz": -180
    },
    "id": "0T0REJmcx228"
   },
   "outputs": [],
   "source": [
    "# Change the directory for read csv file.\n",
    "import os\n",
    "os.chdir('MyDrive/data_science_project')"
   ]
  },
  {
   "cell_type": "markdown",
   "metadata": {
    "id": "TNQcvaUEyXtr"
   },
   "source": [
    "## Loading the Medical Cost Personal Dataset"
   ]
  },
  {
   "cell_type": "code",
   "execution_count": 214,
   "metadata": {
    "colab": {
     "base_uri": "https://localhost:8080/",
     "height": 206
    },
    "executionInfo": {
     "elapsed": 14,
     "status": "ok",
     "timestamp": 1692978696006,
     "user": {
      "displayName": "Caner Ekinci",
      "userId": "08614425171747434730"
     },
     "user_tz": -180
    },
    "id": "lvIzdtieyfbz",
    "outputId": "aac21e05-831b-4f36-ad05-8e5316ba6a6e"
   },
   "outputs": [
    {
     "data": {
      "text/html": [
       "\n",
       "  <div id=\"df-5713fac9-9a5c-4fad-82fa-11695ff1ba77\" class=\"colab-df-container\">\n",
       "    <div>\n",
       "<style scoped>\n",
       "    .dataframe tbody tr th:only-of-type {\n",
       "        vertical-align: middle;\n",
       "    }\n",
       "\n",
       "    .dataframe tbody tr th {\n",
       "        vertical-align: top;\n",
       "    }\n",
       "\n",
       "    .dataframe thead th {\n",
       "        text-align: right;\n",
       "    }\n",
       "</style>\n",
       "<table border=\"1\" class=\"dataframe\">\n",
       "  <thead>\n",
       "    <tr style=\"text-align: right;\">\n",
       "      <th></th>\n",
       "      <th>age</th>\n",
       "      <th>sex</th>\n",
       "      <th>bmi</th>\n",
       "      <th>children</th>\n",
       "      <th>smoker</th>\n",
       "      <th>region</th>\n",
       "      <th>charges</th>\n",
       "    </tr>\n",
       "  </thead>\n",
       "  <tbody>\n",
       "    <tr>\n",
       "      <th>0</th>\n",
       "      <td>19</td>\n",
       "      <td>female</td>\n",
       "      <td>27.900</td>\n",
       "      <td>0</td>\n",
       "      <td>yes</td>\n",
       "      <td>southwest</td>\n",
       "      <td>16884.92400</td>\n",
       "    </tr>\n",
       "    <tr>\n",
       "      <th>1</th>\n",
       "      <td>18</td>\n",
       "      <td>male</td>\n",
       "      <td>33.770</td>\n",
       "      <td>1</td>\n",
       "      <td>no</td>\n",
       "      <td>southeast</td>\n",
       "      <td>1725.55230</td>\n",
       "    </tr>\n",
       "    <tr>\n",
       "      <th>2</th>\n",
       "      <td>28</td>\n",
       "      <td>male</td>\n",
       "      <td>33.000</td>\n",
       "      <td>3</td>\n",
       "      <td>no</td>\n",
       "      <td>southeast</td>\n",
       "      <td>4449.46200</td>\n",
       "    </tr>\n",
       "    <tr>\n",
       "      <th>3</th>\n",
       "      <td>33</td>\n",
       "      <td>male</td>\n",
       "      <td>22.705</td>\n",
       "      <td>0</td>\n",
       "      <td>no</td>\n",
       "      <td>northwest</td>\n",
       "      <td>21984.47061</td>\n",
       "    </tr>\n",
       "    <tr>\n",
       "      <th>4</th>\n",
       "      <td>32</td>\n",
       "      <td>male</td>\n",
       "      <td>28.880</td>\n",
       "      <td>0</td>\n",
       "      <td>no</td>\n",
       "      <td>northwest</td>\n",
       "      <td>3866.85520</td>\n",
       "    </tr>\n",
       "  </tbody>\n",
       "</table>\n",
       "</div>\n",
       "    <div class=\"colab-df-buttons\">\n",
       "\n",
       "  <div class=\"colab-df-container\">\n",
       "    <button class=\"colab-df-convert\" onclick=\"convertToInteractive('df-5713fac9-9a5c-4fad-82fa-11695ff1ba77')\"\n",
       "            title=\"Convert this dataframe to an interactive table.\"\n",
       "            style=\"display:none;\">\n",
       "\n",
       "  <svg xmlns=\"http://www.w3.org/2000/svg\" height=\"24px\" viewBox=\"0 -960 960 960\">\n",
       "    <path d=\"M120-120v-720h720v720H120Zm60-500h600v-160H180v160Zm220 220h160v-160H400v160Zm0 220h160v-160H400v160ZM180-400h160v-160H180v160Zm440 0h160v-160H620v160ZM180-180h160v-160H180v160Zm440 0h160v-160H620v160Z\"/>\n",
       "  </svg>\n",
       "    </button>\n",
       "\n",
       "  <style>\n",
       "    .colab-df-container {\n",
       "      display:flex;\n",
       "      gap: 12px;\n",
       "    }\n",
       "\n",
       "    .colab-df-convert {\n",
       "      background-color: #E8F0FE;\n",
       "      border: none;\n",
       "      border-radius: 50%;\n",
       "      cursor: pointer;\n",
       "      display: none;\n",
       "      fill: #1967D2;\n",
       "      height: 32px;\n",
       "      padding: 0 0 0 0;\n",
       "      width: 32px;\n",
       "    }\n",
       "\n",
       "    .colab-df-convert:hover {\n",
       "      background-color: #E2EBFA;\n",
       "      box-shadow: 0px 1px 2px rgba(60, 64, 67, 0.3), 0px 1px 3px 1px rgba(60, 64, 67, 0.15);\n",
       "      fill: #174EA6;\n",
       "    }\n",
       "\n",
       "    .colab-df-buttons div {\n",
       "      margin-bottom: 4px;\n",
       "    }\n",
       "\n",
       "    [theme=dark] .colab-df-convert {\n",
       "      background-color: #3B4455;\n",
       "      fill: #D2E3FC;\n",
       "    }\n",
       "\n",
       "    [theme=dark] .colab-df-convert:hover {\n",
       "      background-color: #434B5C;\n",
       "      box-shadow: 0px 1px 3px 1px rgba(0, 0, 0, 0.15);\n",
       "      filter: drop-shadow(0px 1px 2px rgba(0, 0, 0, 0.3));\n",
       "      fill: #FFFFFF;\n",
       "    }\n",
       "  </style>\n",
       "\n",
       "    <script>\n",
       "      const buttonEl =\n",
       "        document.querySelector('#df-5713fac9-9a5c-4fad-82fa-11695ff1ba77 button.colab-df-convert');\n",
       "      buttonEl.style.display =\n",
       "        google.colab.kernel.accessAllowed ? 'block' : 'none';\n",
       "\n",
       "      async function convertToInteractive(key) {\n",
       "        const element = document.querySelector('#df-5713fac9-9a5c-4fad-82fa-11695ff1ba77');\n",
       "        const dataTable =\n",
       "          await google.colab.kernel.invokeFunction('convertToInteractive',\n",
       "                                                    [key], {});\n",
       "        if (!dataTable) return;\n",
       "\n",
       "        const docLinkHtml = 'Like what you see? Visit the ' +\n",
       "          '<a target=\"_blank\" href=https://colab.research.google.com/notebooks/data_table.ipynb>data table notebook</a>'\n",
       "          + ' to learn more about interactive tables.';\n",
       "        element.innerHTML = '';\n",
       "        dataTable['output_type'] = 'display_data';\n",
       "        await google.colab.output.renderOutput(dataTable, element);\n",
       "        const docLink = document.createElement('div');\n",
       "        docLink.innerHTML = docLinkHtml;\n",
       "        element.appendChild(docLink);\n",
       "      }\n",
       "    </script>\n",
       "  </div>\n",
       "\n",
       "\n",
       "<div id=\"df-da6ed354-acc5-4acc-b85b-c52191fcb6b5\">\n",
       "  <button class=\"colab-df-quickchart\" onclick=\"quickchart('df-da6ed354-acc5-4acc-b85b-c52191fcb6b5')\"\n",
       "            title=\"Suggest charts.\"\n",
       "            style=\"display:none;\">\n",
       "\n",
       "<svg xmlns=\"http://www.w3.org/2000/svg\" height=\"24px\"viewBox=\"0 0 24 24\"\n",
       "     width=\"24px\">\n",
       "    <g>\n",
       "        <path d=\"M19 3H5c-1.1 0-2 .9-2 2v14c0 1.1.9 2 2 2h14c1.1 0 2-.9 2-2V5c0-1.1-.9-2-2-2zM9 17H7v-7h2v7zm4 0h-2V7h2v10zm4 0h-2v-4h2v4z\"/>\n",
       "    </g>\n",
       "</svg>\n",
       "  </button>\n",
       "\n",
       "<style>\n",
       "  .colab-df-quickchart {\n",
       "    background-color: #E8F0FE;\n",
       "    border: none;\n",
       "    border-radius: 50%;\n",
       "    cursor: pointer;\n",
       "    display: none;\n",
       "    fill: #1967D2;\n",
       "    height: 32px;\n",
       "    padding: 0 0 0 0;\n",
       "    width: 32px;\n",
       "  }\n",
       "\n",
       "  .colab-df-quickchart:hover {\n",
       "    background-color: #E2EBFA;\n",
       "    box-shadow: 0px 1px 2px rgba(60, 64, 67, 0.3), 0px 1px 3px 1px rgba(60, 64, 67, 0.15);\n",
       "    fill: #174EA6;\n",
       "  }\n",
       "\n",
       "  [theme=dark] .colab-df-quickchart {\n",
       "    background-color: #3B4455;\n",
       "    fill: #D2E3FC;\n",
       "  }\n",
       "\n",
       "  [theme=dark] .colab-df-quickchart:hover {\n",
       "    background-color: #434B5C;\n",
       "    box-shadow: 0px 1px 3px 1px rgba(0, 0, 0, 0.15);\n",
       "    filter: drop-shadow(0px 1px 2px rgba(0, 0, 0, 0.3));\n",
       "    fill: #FFFFFF;\n",
       "  }\n",
       "</style>\n",
       "\n",
       "  <script>\n",
       "    async function quickchart(key) {\n",
       "      const charts = await google.colab.kernel.invokeFunction(\n",
       "          'suggestCharts', [key], {});\n",
       "    }\n",
       "    (() => {\n",
       "      let quickchartButtonEl =\n",
       "        document.querySelector('#df-da6ed354-acc5-4acc-b85b-c52191fcb6b5 button');\n",
       "      quickchartButtonEl.style.display =\n",
       "        google.colab.kernel.accessAllowed ? 'block' : 'none';\n",
       "    })();\n",
       "  </script>\n",
       "</div>\n",
       "    </div>\n",
       "  </div>\n"
      ],
      "text/plain": [
       "   age     sex     bmi  children smoker     region      charges\n",
       "0   19  female  27.900         0    yes  southwest  16884.92400\n",
       "1   18    male  33.770         1     no  southeast   1725.55230\n",
       "2   28    male  33.000         3     no  southeast   4449.46200\n",
       "3   33    male  22.705         0     no  northwest  21984.47061\n",
       "4   32    male  28.880         0     no  northwest   3866.85520"
      ]
     },
     "execution_count": 214,
     "metadata": {},
     "output_type": "execute_result"
    }
   ],
   "source": [
    "df = pd.read_csv('insurance.csv')\n",
    "# First 5 row\n",
    "df.head()"
   ]
  },
  {
   "cell_type": "code",
   "execution_count": 215,
   "metadata": {
    "colab": {
     "base_uri": "https://localhost:8080/",
     "height": 300
    },
    "executionInfo": {
     "elapsed": 13,
     "status": "ok",
     "timestamp": 1692978696006,
     "user": {
      "displayName": "Caner Ekinci",
      "userId": "08614425171747434730"
     },
     "user_tz": -180
    },
    "id": "bsEdyaRDzbzj",
    "outputId": "847ab3ff-0085-47d3-cced-61e6b067fbf3"
   },
   "outputs": [
    {
     "data": {
      "text/html": [
       "\n",
       "  <div id=\"df-6063561e-7eb8-40d3-aed3-cb268c35f99e\" class=\"colab-df-container\">\n",
       "    <div>\n",
       "<style scoped>\n",
       "    .dataframe tbody tr th:only-of-type {\n",
       "        vertical-align: middle;\n",
       "    }\n",
       "\n",
       "    .dataframe tbody tr th {\n",
       "        vertical-align: top;\n",
       "    }\n",
       "\n",
       "    .dataframe thead th {\n",
       "        text-align: right;\n",
       "    }\n",
       "</style>\n",
       "<table border=\"1\" class=\"dataframe\">\n",
       "  <thead>\n",
       "    <tr style=\"text-align: right;\">\n",
       "      <th></th>\n",
       "      <th>age</th>\n",
       "      <th>bmi</th>\n",
       "      <th>children</th>\n",
       "      <th>charges</th>\n",
       "    </tr>\n",
       "  </thead>\n",
       "  <tbody>\n",
       "    <tr>\n",
       "      <th>count</th>\n",
       "      <td>1338.000000</td>\n",
       "      <td>1338.000000</td>\n",
       "      <td>1338.000000</td>\n",
       "      <td>1338.000000</td>\n",
       "    </tr>\n",
       "    <tr>\n",
       "      <th>mean</th>\n",
       "      <td>39.207025</td>\n",
       "      <td>30.663397</td>\n",
       "      <td>1.094918</td>\n",
       "      <td>13270.422265</td>\n",
       "    </tr>\n",
       "    <tr>\n",
       "      <th>std</th>\n",
       "      <td>14.049960</td>\n",
       "      <td>6.098187</td>\n",
       "      <td>1.205493</td>\n",
       "      <td>12110.011237</td>\n",
       "    </tr>\n",
       "    <tr>\n",
       "      <th>min</th>\n",
       "      <td>18.000000</td>\n",
       "      <td>15.960000</td>\n",
       "      <td>0.000000</td>\n",
       "      <td>1121.873900</td>\n",
       "    </tr>\n",
       "    <tr>\n",
       "      <th>25%</th>\n",
       "      <td>27.000000</td>\n",
       "      <td>26.296250</td>\n",
       "      <td>0.000000</td>\n",
       "      <td>4740.287150</td>\n",
       "    </tr>\n",
       "    <tr>\n",
       "      <th>50%</th>\n",
       "      <td>39.000000</td>\n",
       "      <td>30.400000</td>\n",
       "      <td>1.000000</td>\n",
       "      <td>9382.033000</td>\n",
       "    </tr>\n",
       "    <tr>\n",
       "      <th>75%</th>\n",
       "      <td>51.000000</td>\n",
       "      <td>34.693750</td>\n",
       "      <td>2.000000</td>\n",
       "      <td>16639.912515</td>\n",
       "    </tr>\n",
       "    <tr>\n",
       "      <th>max</th>\n",
       "      <td>64.000000</td>\n",
       "      <td>53.130000</td>\n",
       "      <td>5.000000</td>\n",
       "      <td>63770.428010</td>\n",
       "    </tr>\n",
       "  </tbody>\n",
       "</table>\n",
       "</div>\n",
       "    <div class=\"colab-df-buttons\">\n",
       "\n",
       "  <div class=\"colab-df-container\">\n",
       "    <button class=\"colab-df-convert\" onclick=\"convertToInteractive('df-6063561e-7eb8-40d3-aed3-cb268c35f99e')\"\n",
       "            title=\"Convert this dataframe to an interactive table.\"\n",
       "            style=\"display:none;\">\n",
       "\n",
       "  <svg xmlns=\"http://www.w3.org/2000/svg\" height=\"24px\" viewBox=\"0 -960 960 960\">\n",
       "    <path d=\"M120-120v-720h720v720H120Zm60-500h600v-160H180v160Zm220 220h160v-160H400v160Zm0 220h160v-160H400v160ZM180-400h160v-160H180v160Zm440 0h160v-160H620v160ZM180-180h160v-160H180v160Zm440 0h160v-160H620v160Z\"/>\n",
       "  </svg>\n",
       "    </button>\n",
       "\n",
       "  <style>\n",
       "    .colab-df-container {\n",
       "      display:flex;\n",
       "      gap: 12px;\n",
       "    }\n",
       "\n",
       "    .colab-df-convert {\n",
       "      background-color: #E8F0FE;\n",
       "      border: none;\n",
       "      border-radius: 50%;\n",
       "      cursor: pointer;\n",
       "      display: none;\n",
       "      fill: #1967D2;\n",
       "      height: 32px;\n",
       "      padding: 0 0 0 0;\n",
       "      width: 32px;\n",
       "    }\n",
       "\n",
       "    .colab-df-convert:hover {\n",
       "      background-color: #E2EBFA;\n",
       "      box-shadow: 0px 1px 2px rgba(60, 64, 67, 0.3), 0px 1px 3px 1px rgba(60, 64, 67, 0.15);\n",
       "      fill: #174EA6;\n",
       "    }\n",
       "\n",
       "    .colab-df-buttons div {\n",
       "      margin-bottom: 4px;\n",
       "    }\n",
       "\n",
       "    [theme=dark] .colab-df-convert {\n",
       "      background-color: #3B4455;\n",
       "      fill: #D2E3FC;\n",
       "    }\n",
       "\n",
       "    [theme=dark] .colab-df-convert:hover {\n",
       "      background-color: #434B5C;\n",
       "      box-shadow: 0px 1px 3px 1px rgba(0, 0, 0, 0.15);\n",
       "      filter: drop-shadow(0px 1px 2px rgba(0, 0, 0, 0.3));\n",
       "      fill: #FFFFFF;\n",
       "    }\n",
       "  </style>\n",
       "\n",
       "    <script>\n",
       "      const buttonEl =\n",
       "        document.querySelector('#df-6063561e-7eb8-40d3-aed3-cb268c35f99e button.colab-df-convert');\n",
       "      buttonEl.style.display =\n",
       "        google.colab.kernel.accessAllowed ? 'block' : 'none';\n",
       "\n",
       "      async function convertToInteractive(key) {\n",
       "        const element = document.querySelector('#df-6063561e-7eb8-40d3-aed3-cb268c35f99e');\n",
       "        const dataTable =\n",
       "          await google.colab.kernel.invokeFunction('convertToInteractive',\n",
       "                                                    [key], {});\n",
       "        if (!dataTable) return;\n",
       "\n",
       "        const docLinkHtml = 'Like what you see? Visit the ' +\n",
       "          '<a target=\"_blank\" href=https://colab.research.google.com/notebooks/data_table.ipynb>data table notebook</a>'\n",
       "          + ' to learn more about interactive tables.';\n",
       "        element.innerHTML = '';\n",
       "        dataTable['output_type'] = 'display_data';\n",
       "        await google.colab.output.renderOutput(dataTable, element);\n",
       "        const docLink = document.createElement('div');\n",
       "        docLink.innerHTML = docLinkHtml;\n",
       "        element.appendChild(docLink);\n",
       "      }\n",
       "    </script>\n",
       "  </div>\n",
       "\n",
       "\n",
       "<div id=\"df-35e597b0-0ff1-4836-af46-ce07da8d0c35\">\n",
       "  <button class=\"colab-df-quickchart\" onclick=\"quickchart('df-35e597b0-0ff1-4836-af46-ce07da8d0c35')\"\n",
       "            title=\"Suggest charts.\"\n",
       "            style=\"display:none;\">\n",
       "\n",
       "<svg xmlns=\"http://www.w3.org/2000/svg\" height=\"24px\"viewBox=\"0 0 24 24\"\n",
       "     width=\"24px\">\n",
       "    <g>\n",
       "        <path d=\"M19 3H5c-1.1 0-2 .9-2 2v14c0 1.1.9 2 2 2h14c1.1 0 2-.9 2-2V5c0-1.1-.9-2-2-2zM9 17H7v-7h2v7zm4 0h-2V7h2v10zm4 0h-2v-4h2v4z\"/>\n",
       "    </g>\n",
       "</svg>\n",
       "  </button>\n",
       "\n",
       "<style>\n",
       "  .colab-df-quickchart {\n",
       "    background-color: #E8F0FE;\n",
       "    border: none;\n",
       "    border-radius: 50%;\n",
       "    cursor: pointer;\n",
       "    display: none;\n",
       "    fill: #1967D2;\n",
       "    height: 32px;\n",
       "    padding: 0 0 0 0;\n",
       "    width: 32px;\n",
       "  }\n",
       "\n",
       "  .colab-df-quickchart:hover {\n",
       "    background-color: #E2EBFA;\n",
       "    box-shadow: 0px 1px 2px rgba(60, 64, 67, 0.3), 0px 1px 3px 1px rgba(60, 64, 67, 0.15);\n",
       "    fill: #174EA6;\n",
       "  }\n",
       "\n",
       "  [theme=dark] .colab-df-quickchart {\n",
       "    background-color: #3B4455;\n",
       "    fill: #D2E3FC;\n",
       "  }\n",
       "\n",
       "  [theme=dark] .colab-df-quickchart:hover {\n",
       "    background-color: #434B5C;\n",
       "    box-shadow: 0px 1px 3px 1px rgba(0, 0, 0, 0.15);\n",
       "    filter: drop-shadow(0px 1px 2px rgba(0, 0, 0, 0.3));\n",
       "    fill: #FFFFFF;\n",
       "  }\n",
       "</style>\n",
       "\n",
       "  <script>\n",
       "    async function quickchart(key) {\n",
       "      const charts = await google.colab.kernel.invokeFunction(\n",
       "          'suggestCharts', [key], {});\n",
       "    }\n",
       "    (() => {\n",
       "      let quickchartButtonEl =\n",
       "        document.querySelector('#df-35e597b0-0ff1-4836-af46-ce07da8d0c35 button');\n",
       "      quickchartButtonEl.style.display =\n",
       "        google.colab.kernel.accessAllowed ? 'block' : 'none';\n",
       "    })();\n",
       "  </script>\n",
       "</div>\n",
       "    </div>\n",
       "  </div>\n"
      ],
      "text/plain": [
       "               age          bmi     children       charges\n",
       "count  1338.000000  1338.000000  1338.000000   1338.000000\n",
       "mean     39.207025    30.663397     1.094918  13270.422265\n",
       "std      14.049960     6.098187     1.205493  12110.011237\n",
       "min      18.000000    15.960000     0.000000   1121.873900\n",
       "25%      27.000000    26.296250     0.000000   4740.287150\n",
       "50%      39.000000    30.400000     1.000000   9382.033000\n",
       "75%      51.000000    34.693750     2.000000  16639.912515\n",
       "max      64.000000    53.130000     5.000000  63770.428010"
      ]
     },
     "execution_count": 215,
     "metadata": {},
     "output_type": "execute_result"
    }
   ],
   "source": [
    "# Describing the data variables\n",
    "df.describe()"
   ]
  },
  {
   "cell_type": "code",
   "execution_count": 215,
   "metadata": {
    "executionInfo": {
     "elapsed": 12,
     "status": "ok",
     "timestamp": 1692978696006,
     "user": {
      "displayName": "Caner Ekinci",
      "userId": "08614425171747434730"
     },
     "user_tz": -180
    },
    "id": "TlP2a_tRFqeF"
   },
   "outputs": [],
   "source": []
  },
  {
   "cell_type": "markdown",
   "metadata": {
    "id": "9RTXBWABItTK"
   },
   "source": [
    "## Data Analysis"
   ]
  },
  {
   "cell_type": "code",
   "execution_count": 216,
   "metadata": {
    "colab": {
     "base_uri": "https://localhost:8080/",
     "height": 230
    },
    "executionInfo": {
     "elapsed": 13,
     "status": "ok",
     "timestamp": 1692978696007,
     "user": {
      "displayName": "Caner Ekinci",
      "userId": "08614425171747434730"
     },
     "user_tz": -180
    },
    "id": "TPeU6cmuf6FC",
    "outputId": "e8e136bb-352b-4882-e9b4-99864b6027fe"
   },
   "outputs": [
    {
     "name": "stderr",
     "output_type": "stream",
     "text": [
      "<ipython-input-216-2f6f6606aa2c>:1: FutureWarning: The default value of numeric_only in DataFrame.corr is deprecated. In a future version, it will default to False. Select only valid columns or specify the value of numeric_only to silence this warning.\n",
      "  df.corr()\n"
     ]
    },
    {
     "data": {
      "text/html": [
       "\n",
       "  <div id=\"df-c7ba4d2d-e710-4b8b-a2fc-43b8ecfec031\" class=\"colab-df-container\">\n",
       "    <div>\n",
       "<style scoped>\n",
       "    .dataframe tbody tr th:only-of-type {\n",
       "        vertical-align: middle;\n",
       "    }\n",
       "\n",
       "    .dataframe tbody tr th {\n",
       "        vertical-align: top;\n",
       "    }\n",
       "\n",
       "    .dataframe thead th {\n",
       "        text-align: right;\n",
       "    }\n",
       "</style>\n",
       "<table border=\"1\" class=\"dataframe\">\n",
       "  <thead>\n",
       "    <tr style=\"text-align: right;\">\n",
       "      <th></th>\n",
       "      <th>age</th>\n",
       "      <th>bmi</th>\n",
       "      <th>children</th>\n",
       "      <th>charges</th>\n",
       "    </tr>\n",
       "  </thead>\n",
       "  <tbody>\n",
       "    <tr>\n",
       "      <th>age</th>\n",
       "      <td>1.000000</td>\n",
       "      <td>0.109272</td>\n",
       "      <td>0.042469</td>\n",
       "      <td>0.299008</td>\n",
       "    </tr>\n",
       "    <tr>\n",
       "      <th>bmi</th>\n",
       "      <td>0.109272</td>\n",
       "      <td>1.000000</td>\n",
       "      <td>0.012759</td>\n",
       "      <td>0.198341</td>\n",
       "    </tr>\n",
       "    <tr>\n",
       "      <th>children</th>\n",
       "      <td>0.042469</td>\n",
       "      <td>0.012759</td>\n",
       "      <td>1.000000</td>\n",
       "      <td>0.067998</td>\n",
       "    </tr>\n",
       "    <tr>\n",
       "      <th>charges</th>\n",
       "      <td>0.299008</td>\n",
       "      <td>0.198341</td>\n",
       "      <td>0.067998</td>\n",
       "      <td>1.000000</td>\n",
       "    </tr>\n",
       "  </tbody>\n",
       "</table>\n",
       "</div>\n",
       "    <div class=\"colab-df-buttons\">\n",
       "\n",
       "  <div class=\"colab-df-container\">\n",
       "    <button class=\"colab-df-convert\" onclick=\"convertToInteractive('df-c7ba4d2d-e710-4b8b-a2fc-43b8ecfec031')\"\n",
       "            title=\"Convert this dataframe to an interactive table.\"\n",
       "            style=\"display:none;\">\n",
       "\n",
       "  <svg xmlns=\"http://www.w3.org/2000/svg\" height=\"24px\" viewBox=\"0 -960 960 960\">\n",
       "    <path d=\"M120-120v-720h720v720H120Zm60-500h600v-160H180v160Zm220 220h160v-160H400v160Zm0 220h160v-160H400v160ZM180-400h160v-160H180v160Zm440 0h160v-160H620v160ZM180-180h160v-160H180v160Zm440 0h160v-160H620v160Z\"/>\n",
       "  </svg>\n",
       "    </button>\n",
       "\n",
       "  <style>\n",
       "    .colab-df-container {\n",
       "      display:flex;\n",
       "      gap: 12px;\n",
       "    }\n",
       "\n",
       "    .colab-df-convert {\n",
       "      background-color: #E8F0FE;\n",
       "      border: none;\n",
       "      border-radius: 50%;\n",
       "      cursor: pointer;\n",
       "      display: none;\n",
       "      fill: #1967D2;\n",
       "      height: 32px;\n",
       "      padding: 0 0 0 0;\n",
       "      width: 32px;\n",
       "    }\n",
       "\n",
       "    .colab-df-convert:hover {\n",
       "      background-color: #E2EBFA;\n",
       "      box-shadow: 0px 1px 2px rgba(60, 64, 67, 0.3), 0px 1px 3px 1px rgba(60, 64, 67, 0.15);\n",
       "      fill: #174EA6;\n",
       "    }\n",
       "\n",
       "    .colab-df-buttons div {\n",
       "      margin-bottom: 4px;\n",
       "    }\n",
       "\n",
       "    [theme=dark] .colab-df-convert {\n",
       "      background-color: #3B4455;\n",
       "      fill: #D2E3FC;\n",
       "    }\n",
       "\n",
       "    [theme=dark] .colab-df-convert:hover {\n",
       "      background-color: #434B5C;\n",
       "      box-shadow: 0px 1px 3px 1px rgba(0, 0, 0, 0.15);\n",
       "      filter: drop-shadow(0px 1px 2px rgba(0, 0, 0, 0.3));\n",
       "      fill: #FFFFFF;\n",
       "    }\n",
       "  </style>\n",
       "\n",
       "    <script>\n",
       "      const buttonEl =\n",
       "        document.querySelector('#df-c7ba4d2d-e710-4b8b-a2fc-43b8ecfec031 button.colab-df-convert');\n",
       "      buttonEl.style.display =\n",
       "        google.colab.kernel.accessAllowed ? 'block' : 'none';\n",
       "\n",
       "      async function convertToInteractive(key) {\n",
       "        const element = document.querySelector('#df-c7ba4d2d-e710-4b8b-a2fc-43b8ecfec031');\n",
       "        const dataTable =\n",
       "          await google.colab.kernel.invokeFunction('convertToInteractive',\n",
       "                                                    [key], {});\n",
       "        if (!dataTable) return;\n",
       "\n",
       "        const docLinkHtml = 'Like what you see? Visit the ' +\n",
       "          '<a target=\"_blank\" href=https://colab.research.google.com/notebooks/data_table.ipynb>data table notebook</a>'\n",
       "          + ' to learn more about interactive tables.';\n",
       "        element.innerHTML = '';\n",
       "        dataTable['output_type'] = 'display_data';\n",
       "        await google.colab.output.renderOutput(dataTable, element);\n",
       "        const docLink = document.createElement('div');\n",
       "        docLink.innerHTML = docLinkHtml;\n",
       "        element.appendChild(docLink);\n",
       "      }\n",
       "    </script>\n",
       "  </div>\n",
       "\n",
       "\n",
       "<div id=\"df-563c330e-782b-42d5-b6e4-2b0b02e1c3ca\">\n",
       "  <button class=\"colab-df-quickchart\" onclick=\"quickchart('df-563c330e-782b-42d5-b6e4-2b0b02e1c3ca')\"\n",
       "            title=\"Suggest charts.\"\n",
       "            style=\"display:none;\">\n",
       "\n",
       "<svg xmlns=\"http://www.w3.org/2000/svg\" height=\"24px\"viewBox=\"0 0 24 24\"\n",
       "     width=\"24px\">\n",
       "    <g>\n",
       "        <path d=\"M19 3H5c-1.1 0-2 .9-2 2v14c0 1.1.9 2 2 2h14c1.1 0 2-.9 2-2V5c0-1.1-.9-2-2-2zM9 17H7v-7h2v7zm4 0h-2V7h2v10zm4 0h-2v-4h2v4z\"/>\n",
       "    </g>\n",
       "</svg>\n",
       "  </button>\n",
       "\n",
       "<style>\n",
       "  .colab-df-quickchart {\n",
       "    background-color: #E8F0FE;\n",
       "    border: none;\n",
       "    border-radius: 50%;\n",
       "    cursor: pointer;\n",
       "    display: none;\n",
       "    fill: #1967D2;\n",
       "    height: 32px;\n",
       "    padding: 0 0 0 0;\n",
       "    width: 32px;\n",
       "  }\n",
       "\n",
       "  .colab-df-quickchart:hover {\n",
       "    background-color: #E2EBFA;\n",
       "    box-shadow: 0px 1px 2px rgba(60, 64, 67, 0.3), 0px 1px 3px 1px rgba(60, 64, 67, 0.15);\n",
       "    fill: #174EA6;\n",
       "  }\n",
       "\n",
       "  [theme=dark] .colab-df-quickchart {\n",
       "    background-color: #3B4455;\n",
       "    fill: #D2E3FC;\n",
       "  }\n",
       "\n",
       "  [theme=dark] .colab-df-quickchart:hover {\n",
       "    background-color: #434B5C;\n",
       "    box-shadow: 0px 1px 3px 1px rgba(0, 0, 0, 0.15);\n",
       "    filter: drop-shadow(0px 1px 2px rgba(0, 0, 0, 0.3));\n",
       "    fill: #FFFFFF;\n",
       "  }\n",
       "</style>\n",
       "\n",
       "  <script>\n",
       "    async function quickchart(key) {\n",
       "      const charts = await google.colab.kernel.invokeFunction(\n",
       "          'suggestCharts', [key], {});\n",
       "    }\n",
       "    (() => {\n",
       "      let quickchartButtonEl =\n",
       "        document.querySelector('#df-563c330e-782b-42d5-b6e4-2b0b02e1c3ca button');\n",
       "      quickchartButtonEl.style.display =\n",
       "        google.colab.kernel.accessAllowed ? 'block' : 'none';\n",
       "    })();\n",
       "  </script>\n",
       "</div>\n",
       "    </div>\n",
       "  </div>\n"
      ],
      "text/plain": [
       "               age       bmi  children   charges\n",
       "age       1.000000  0.109272  0.042469  0.299008\n",
       "bmi       0.109272  1.000000  0.012759  0.198341\n",
       "children  0.042469  0.012759  1.000000  0.067998\n",
       "charges   0.299008  0.198341  0.067998  1.000000"
      ]
     },
     "execution_count": 216,
     "metadata": {},
     "output_type": "execute_result"
    }
   ],
   "source": [
    "#Correlation between columns\n",
    "df.corr()"
   ]
  },
  {
   "cell_type": "markdown",
   "metadata": {
    "id": "7l20CaJxZsKe"
   },
   "source": [
    "**Correlations between columns totally are positive but not strong.**"
   ]
  },
  {
   "cell_type": "markdown",
   "metadata": {
    "id": "JBEbKQw9I3_m"
   },
   "source": [
    "### Examine the distribution of Bmi (Body Mass Index)"
   ]
  },
  {
   "cell_type": "code",
   "execution_count": 217,
   "metadata": {
    "colab": {
     "base_uri": "https://localhost:8080/",
     "height": 657
    },
    "executionInfo": {
     "elapsed": 804,
     "status": "ok",
     "timestamp": 1692978696801,
     "user": {
      "displayName": "Caner Ekinci",
      "userId": "08614425171747434730"
     },
     "user_tz": -180
    },
    "id": "3d6PU_phJBfx",
    "outputId": "e8df2759-8114-4be4-a402-1071be60af78"
   },
   "outputs": [
    {
     "name": "stderr",
     "output_type": "stream",
     "text": [
      "<ipython-input-217-dbd7709c66b6>:2: UserWarning: \n",
      "\n",
      "`distplot` is a deprecated function and will be removed in seaborn v0.14.0.\n",
      "\n",
      "Please adapt your code to use either `displot` (a figure-level function with\n",
      "similar flexibility) or `histplot` (an axes-level function for histograms).\n",
      "\n",
      "For a guide to updating your code to use the new functions, please see\n",
      "https://gist.github.com/mwaskom/de44147ed2974457ad6372750bbe5751\n",
      "\n",
      "  sns.distplot(df['bmi'])\n"
     ]
    },
    {
     "data": {
      "text/plain": [
       "<Axes: xlabel='bmi', ylabel='Density'>"
      ]
     },
     "execution_count": 217,
     "metadata": {},
     "output_type": "execute_result"
    },
    {
     "data": {
      "image/png": "[encoded data removed]",
      "text/plain": [
       "<Figure size 640x480 with 1 Axes>"
      ]
     },
     "metadata": {},
     "output_type": "display_data"
    }
   ],
   "source": [
    "# Distrubition of bmi\n",
    "sns.distplot(df['bmi'])"
   ]
  },
  {
   "cell_type": "markdown",
   "metadata": {
    "id": "ODVVyI6UKmmQ"
   },
   "source": [
    "**Distrubition of Bmi is at most close to 30.**"
   ]
  },
  {
   "cell_type": "markdown",
   "metadata": {
    "id": "3MKnsy2HK89c"
   },
   "source": [
    "### Examine the Smokers Column"
   ]
  },
  {
   "cell_type": "code",
   "execution_count": 218,
   "metadata": {
    "colab": {
     "base_uri": "https://localhost:8080/",
     "height": 430
    },
    "executionInfo": {
     "elapsed": 12,
     "status": "ok",
     "timestamp": 1692978696801,
     "user": {
      "displayName": "Caner Ekinci",
      "userId": "08614425171747434730"
     },
     "user_tz": -180
    },
    "id": "CokH2lgALeOp",
    "outputId": "0611512c-2dc7-4ea2-d814-c0a72fd43464"
   },
   "outputs": [
    {
     "data": {
      "image/png": "[encoded data removed]",
      "text/plain": [
       "<Figure size 640x480 with 1 Axes>"
      ]
     },
     "metadata": {},
     "output_type": "display_data"
    }
   ],
   "source": [
    "# Relationship between Smoker and Charges\n",
    "plt.scatter(x='smoker', y='charges', data=df)\n",
    "plt.title = 'Relationship between Smoker and Charges'\n",
    "plt.show()"
   ]
  },
  {
   "cell_type": "markdown",
   "metadata": {
    "id": "xnlWkONsPK7-"
   },
   "source": [
    "**If a user is smoker cost might be higher than user who is not smoker.**"
   ]
  },
  {
   "cell_type": "code",
   "execution_count": 219,
   "metadata": {
    "colab": {
     "base_uri": "https://localhost:8080/",
     "height": 466
    },
    "executionInfo": {
     "elapsed": 10,
     "status": "ok",
     "timestamp": 1692978696802,
     "user": {
      "displayName": "Caner Ekinci",
      "userId": "08614425171747434730"
     },
     "user_tz": -180
    },
    "id": "qx4_kVe7fHAK",
    "outputId": "bf5906b9-e3fb-48a5-859a-ab910c375d20"
   },
   "outputs": [
    {
     "data": {
      "text/plain": [
       "<Axes: xlabel='region'>"
      ]
     },
     "execution_count": 219,
     "metadata": {},
     "output_type": "execute_result"
    },
    {
     "data": {
      "image/png": "[encoded data removed]",
      "text/plain": [
       "<Figure size 640x480 with 1 Axes>"
      ]
     },
     "metadata": {},
     "output_type": "display_data"
    }
   ],
   "source": [
    "df.groupby(['region', 'smoker']).size().unstack().plot()"
   ]
  },
  {
   "cell_type": "markdown",
   "metadata": {
    "id": "r9tOFt3if-pi"
   },
   "source": [
    "**There is not relationship between smoker and region.**\n",
    "\n",
    "\n"
   ]
  },
  {
   "cell_type": "markdown",
   "metadata": {
    "id": "d9tMEsX0Pz2P"
   },
   "source": [
    "### Examine the Bmi Column"
   ]
  },
  {
   "cell_type": "code",
   "execution_count": 220,
   "metadata": {
    "colab": {
     "base_uri": "https://localhost:8080/",
     "height": 447
    },
    "executionInfo": {
     "elapsed": 923,
     "status": "ok",
     "timestamp": 1692978697718,
     "user": {
      "displayName": "Caner Ekinci",
      "userId": "08614425171747434730"
     },
     "user_tz": -180
    },
    "id": "vsOFDLvnP1Pg",
    "outputId": "550e0b3a-cca3-4fac-f9b2-9abe70078d5d"
   },
   "outputs": [
    {
     "data": {
      "text/plain": [
       "<matplotlib.collections.PathCollection at 0x7b00e01111e0>"
      ]
     },
     "execution_count": 220,
     "metadata": {},
     "output_type": "execute_result"
    },
    {
     "data": {
      "image/png": "[encoded data removed]",
      "text/plain": [
       "<Figure size 640x480 with 1 Axes>"
      ]
     },
     "metadata": {},
     "output_type": "display_data"
    }
   ],
   "source": [
    "# Relationship between Bmi and Sex\n",
    "plt.scatter(x = 'sex', y='bmi', data=df)"
   ]
  },
  {
   "cell_type": "markdown",
   "metadata": {
    "id": "Pfaspx6dREfl"
   },
   "source": [
    "**Male might be higher bmi value.**\n",
    "\n"
   ]
  },
  {
   "cell_type": "code",
   "execution_count": 221,
   "metadata": {
    "colab": {
     "base_uri": "https://localhost:8080/",
     "height": 649
    },
    "executionInfo": {
     "elapsed": 9,
     "status": "ok",
     "timestamp": 1692978697718,
     "user": {
      "displayName": "Caner Ekinci",
      "userId": "08614425171747434730"
     },
     "user_tz": -180
    },
    "id": "ajLxPUdQRKlD",
    "outputId": "65ded670-e71a-4c31-e2a8-14480ffe23a4"
   },
   "outputs": [
    {
     "name": "stdout",
     "output_type": "stream",
     "text": [
      "age         0.109272\n",
      "bmi         1.000000\n",
      "children    0.012759\n",
      "charges     0.198341\n",
      "Name: bmi, dtype: float64\n"
     ]
    },
    {
     "name": "stderr",
     "output_type": "stream",
     "text": [
      "<ipython-input-221-c8ce1ca7a041>:3: FutureWarning: The default value of numeric_only in DataFrame.corr is deprecated. In a future version, it will default to False. Select only valid columns or specify the value of numeric_only to silence this warning.\n",
      "  print(df.corr()['bmi'])\n"
     ]
    },
    {
     "data": {
      "image/png": "[encoded data removed]",
      "text/plain": [
       "<Figure size 500x500 with 1 Axes>"
      ]
     },
     "metadata": {},
     "output_type": "display_data"
    }
   ],
   "source": [
    "# Examine the relationship between “age” and “bmi”.\n",
    "sns.lmplot(x='age', y='bmi', data=df)\n",
    "print(df.corr()['bmi'])"
   ]
  },
  {
   "cell_type": "markdown",
   "metadata": {
    "id": "BahkBGqlRhOH"
   },
   "source": [
    "**Can be seen with correlation and graph. There is not much relationship between age and bmi.**\n",
    "\n"
   ]
  },
  {
   "cell_type": "code",
   "execution_count": 222,
   "metadata": {
    "colab": {
     "base_uri": "https://localhost:8080/",
     "height": 523
    },
    "executionInfo": {
     "elapsed": 851,
     "status": "ok",
     "timestamp": 1692978698564,
     "user": {
      "displayName": "Caner Ekinci",
      "userId": "08614425171747434730"
     },
     "user_tz": -180
    },
    "id": "4hEiLHo5Rnba",
    "outputId": "b0332126-e49a-40e4-bbd1-e13817b4c31f"
   },
   "outputs": [
    {
     "data": {
      "text/plain": [
       "<seaborn.axisgrid.FacetGrid at 0x7b00e0135d50>"
      ]
     },
     "execution_count": 222,
     "metadata": {},
     "output_type": "execute_result"
    },
    {
     "data": {
      "image/png": "[encoded data removed]",
      "text/plain": [
       "<Figure size 500x500 with 1 Axes>"
      ]
     },
     "metadata": {},
     "output_type": "display_data"
    }
   ],
   "source": [
    "#Examine the relationship between “bmi” and “children”.\n",
    "sns.lmplot(x='bmi', y='children', data=df)"
   ]
  },
  {
   "cell_type": "markdown",
   "metadata": {
    "id": "0xbMBuPpSOHm"
   },
   "source": [
    "**There is not relationship between bmi and children**"
   ]
  },
  {
   "cell_type": "code",
   "execution_count": 223,
   "metadata": {
    "colab": {
     "base_uri": "https://localhost:8080/",
     "height": 523
    },
    "executionInfo": {
     "elapsed": 13,
     "status": "ok",
     "timestamp": 1692978698565,
     "user": {
      "displayName": "Caner Ekinci",
      "userId": "08614425171747434730"
     },
     "user_tz": -180
    },
    "id": "KxF227CYUDXX",
    "outputId": "0885e544-bcac-4630-c5e4-5f0caed9f064"
   },
   "outputs": [
    {
     "data": {
      "text/plain": [
       "<seaborn.axisgrid.FacetGrid at 0x7b00e0190e80>"
      ]
     },
     "execution_count": 223,
     "metadata": {},
     "output_type": "execute_result"
    },
    {
     "data": {
      "image/png": "[encoded data removed]",
      "text/plain": [
       "<Figure size 500x500 with 1 Axes>"
      ]
     },
     "metadata": {},
     "output_type": "display_data"
    }
   ],
   "source": [
    "#Examine the relationship between “bmi” and “charges”.\n",
    "sns.lmplot(x='bmi', y='charges', data=df)"
   ]
  },
  {
   "cell_type": "markdown",
   "metadata": {
    "id": "w1ihlC-cUViF"
   },
   "source": [
    "### Find the &quot;region&quot; with the most &quot;children&quot;"
   ]
  },
  {
   "cell_type": "code",
   "execution_count": 224,
   "metadata": {
    "colab": {
     "base_uri": "https://localhost:8080/",
     "height": 521
    },
    "executionInfo": {
     "elapsed": 9,
     "status": "ok",
     "timestamp": 1692978698565,
     "user": {
      "displayName": "Caner Ekinci",
      "userId": "08614425171747434730"
     },
     "user_tz": -180
    },
    "id": "41OlCCjxSRpc",
    "outputId": "17e81617-9be6-4c61-a0e4-5b1b4484bf0b"
   },
   "outputs": [
    {
     "name": "stderr",
     "output_type": "stream",
     "text": [
      "<ipython-input-224-bd3db2496071>:1: FutureWarning: The default value of numeric_only in DataFrameGroupBy.sum is deprecated. In a future version, numeric_only will default to False. Either specify numeric_only or select only columns which should be valid for the function.\n",
      "  df.groupby('region').aggregate('sum')['children'].plot()\n"
     ]
    },
    {
     "data": {
      "text/plain": [
       "<Axes: xlabel='region'>"
      ]
     },
     "execution_count": 224,
     "metadata": {},
     "output_type": "execute_result"
    },
    {
     "data": {
      "image/png": "[encoded data removed]",
      "text/plain": [
       "<Figure size 640x480 with 1 Axes>"
      ]
     },
     "metadata": {},
     "output_type": "display_data"
    }
   ],
   "source": [
    "df.groupby('region').aggregate('sum')['children'].plot()"
   ]
  },
  {
   "cell_type": "markdown",
   "metadata": {
    "id": "UNhIyHlqTFsN"
   },
   "source": [
    "**Most children are in southeast.**"
   ]
  },
  {
   "cell_type": "markdown",
   "metadata": {
    "id": "t3xj-aVbg3sK"
   },
   "source": [
    "### Is there an outlier in the &quot;bmi&quot; variable?"
   ]
  },
  {
   "cell_type": "code",
   "execution_count": 225,
   "metadata": {
    "colab": {
     "base_uri": "https://localhost:8080/",
     "height": 466
    },
    "executionInfo": {
     "elapsed": 496,
     "status": "ok",
     "timestamp": 1692978699055,
     "user": {
      "displayName": "Caner Ekinci",
      "userId": "08614425171747434730"
     },
     "user_tz": -180
    },
    "id": "W605dPiRg5zS",
    "outputId": "8fb42e93-6d74-444b-9997-81907263ff13"
   },
   "outputs": [
    {
     "data": {
      "text/plain": [
       "<Axes: xlabel='bmi'>"
      ]
     },
     "execution_count": 225,
     "metadata": {},
     "output_type": "execute_result"
    },
    {
     "data": {
      "image/png": "[encoded data removed]",
      "text/plain": [
       "<Figure size 640x480 with 1 Axes>"
      ]
     },
     "metadata": {},
     "output_type": "display_data"
    }
   ],
   "source": [
    "sns.boxplot(x = df['bmi'])"
   ]
  },
  {
   "cell_type": "markdown",
   "metadata": {
    "id": "QMkgEU7UhXaC"
   },
   "source": [
    "**Can be seen there are outlier values. Also distplot shows the outlier values because of left polarity and right polarity height is not same.**"
   ]
  },
  {
   "cell_type": "markdown",
   "metadata": {
    "id": "ObwX1th0Xr53"
   },
   "source": [
    "### Examine the relationship between “region”, “smoker” and “bmi” using bar plot."
   ]
  },
  {
   "cell_type": "code",
   "execution_count": 226,
   "metadata": {
    "colab": {
     "base_uri": "https://localhost:8080/",
     "height": 466
    },
    "executionInfo": {
     "elapsed": 16,
     "status": "ok",
     "timestamp": 1692978699056,
     "user": {
      "displayName": "Caner Ekinci",
      "userId": "08614425171747434730"
     },
     "user_tz": -180
    },
    "id": "CxurRwsEYvps",
    "outputId": "7d7b5f54-e124-4faf-e62b-196a4a94555e"
   },
   "outputs": [
    {
     "data": {
      "text/plain": [
       "<Axes: xlabel='region', ylabel='charges'>"
      ]
     },
     "execution_count": 226,
     "metadata": {},
     "output_type": "execute_result"
    },
    {
     "data": {
      "image/png": "[encoded data removed]",
      "text/plain": [
       "<Figure size 640x480 with 1 Axes>"
      ]
     },
     "metadata": {},
     "output_type": "display_data"
    }
   ],
   "source": [
    "sns.barplot(x='region', y='charges', hue='smoker',data=df)"
   ]
  },
  {
   "cell_type": "markdown",
   "metadata": {
    "id": "AK5_judrabDJ"
   },
   "source": [
    "**People who are in southeast region and smoker are potentially cost much for medical.\n",
    "Oppose of people who are in southeast region and not smoker are potentially least cost for medical.**"
   ]
  },
  {
   "cell_type": "markdown",
   "metadata": {
    "id": "7GimeMeDc0J7"
   },
   "source": [
    "## Data Preprocessing"
   ]
  },
  {
   "cell_type": "code",
   "execution_count": 261,
   "metadata": {
    "colab": {
     "base_uri": "https://localhost:8080/"
    },
    "executionInfo": {
     "elapsed": 302,
     "status": "ok",
     "timestamp": 1692979186629,
     "user": {
      "displayName": "Caner Ekinci",
      "userId": "08614425171747434730"
     },
     "user_tz": -180
    },
    "id": "K60qso4Vc05D",
    "outputId": "f100838a-1461-4294-b13d-2ead28d6041e"
   },
   "outputs": [
    {
     "data": {
      "text/plain": [
       "age          0\n",
       "bmi          0\n",
       "children     0\n",
       "northeast    0\n",
       "northwest    0\n",
       "southeast    0\n",
       "southwest    0\n",
       "sex          0\n",
       "smoker       0\n",
       "charges      0\n",
       "dtype: int64"
      ]
     },
     "execution_count": 261,
     "metadata": {},
     "output_type": "execute_result"
    }
   ],
   "source": [
    "# Control for nan values\n",
    "df.isna().sum()"
   ]
  },
  {
   "cell_type": "markdown",
   "metadata": {
    "id": "sWOWxneqc3b8"
   },
   "source": [
    "**There aren't null values.**"
   ]
  },
  {
   "cell_type": "markdown",
   "metadata": {
    "id": "hc9E8X6LiONl"
   },
   "source": [
    "### Outlier Values"
   ]
  },
  {
   "cell_type": "code",
   "execution_count": 228,
   "metadata": {
    "executionInfo": {
     "elapsed": 8,
     "status": "ok",
     "timestamp": 1692978699056,
     "user": {
      "displayName": "Caner Ekinci",
      "userId": "08614425171747434730"
     },
     "user_tz": -180
    },
    "id": "FtaDPJSkiQtR"
   },
   "outputs": [],
   "source": [
    "# Handling outlier values with z scores\n",
    "\n",
    "z_scores = np.abs((df[\"bmi\"] - df[\"bmi\"].mean()) / df[\"bmi\"].std())\n",
    "\n",
    "z_threshold = 2\n",
    "\n",
    "# Outlier values assign to mean values\n",
    "df.loc[z_scores > z_threshold, 'bmi'] = df['bmi'].mean()"
   ]
  },
  {
   "cell_type": "markdown",
   "metadata": {
    "id": "GzMh2RxKlQ_h"
   },
   "source": [
    "**We are transforming into average value bmi values which values higher than 47.29. Average value can be seen in df.describe method. There is table above about mean, count etc.**"
   ]
  },
  {
   "cell_type": "code",
   "execution_count": 229,
   "metadata": {
    "colab": {
     "base_uri": "https://localhost:8080/",
     "height": 466
    },
    "executionInfo": {
     "elapsed": 362,
     "status": "ok",
     "timestamp": 1692978699411,
     "user": {
      "displayName": "Caner Ekinci",
      "userId": "08614425171747434730"
     },
     "user_tz": -180
    },
    "id": "cgeScUl8mjrQ",
    "outputId": "fc56848b-8079-4654-b429-12c25d17e233"
   },
   "outputs": [
    {
     "data": {
      "text/plain": [
       "<Axes: xlabel='bmi'>"
      ]
     },
     "execution_count": 229,
     "metadata": {},
     "output_type": "execute_result"
    },
    {
     "data": {
      "image/png": "[encoded data removed]",
      "text/plain": [
       "<Figure size 640x480 with 1 Axes>"
      ]
     },
     "metadata": {},
     "output_type": "display_data"
    }
   ],
   "source": [
    "# Control again for outlier values.\n",
    "sns.boxplot(x=df['bmi'])"
   ]
  },
  {
   "cell_type": "markdown",
   "metadata": {
    "id": "IXpRLSYLdp9F"
   },
   "source": [
    "### Encoding"
   ]
  },
  {
   "cell_type": "code",
   "execution_count": 230,
   "metadata": {
    "executionInfo": {
     "elapsed": 21,
     "status": "ok",
     "timestamp": 1692978699411,
     "user": {
      "displayName": "Caner Ekinci",
      "userId": "08614425171747434730"
     },
     "user_tz": -180
    },
    "id": "fr9SlKRuc-Zs"
   },
   "outputs": [],
   "source": [
    "from sklearn.preprocessing import LabelEncoder, OneHotEncoder\n",
    "\n",
    "# LabelEncoding for Sex\n",
    "sex = df.iloc[:, 1].values\n",
    "le = LabelEncoder()\n",
    "sex = le.fit_transform(sex)\n",
    "\n",
    "# LabelEncoding for Smoker\n",
    "smoker = df.iloc[:, 4].values\n",
    "le2 = LabelEncoder()\n",
    "smoker = le2.fit_transform(smoker)"
   ]
  },
  {
   "cell_type": "code",
   "execution_count": 231,
   "metadata": {
    "colab": {
     "base_uri": "https://localhost:8080/"
    },
    "executionInfo": {
     "elapsed": 20,
     "status": "ok",
     "timestamp": 1692978699411,
     "user": {
      "displayName": "Caner Ekinci",
      "userId": "08614425171747434730"
     },
     "user_tz": -180
    },
    "id": "fKyWTijHdFgP",
    "outputId": "6547ca2d-dfaf-46ae-fe2d-6d135e0df392"
   },
   "outputs": [
    {
     "data": {
      "text/plain": [
       "array(['southwest', 'southeast', 'northwest', 'northeast'], dtype=object)"
      ]
     },
     "execution_count": 231,
     "metadata": {},
     "output_type": "execute_result"
    }
   ],
   "source": [
    "df['region'].unique()"
   ]
  },
  {
   "cell_type": "markdown",
   "metadata": {
    "id": "wJuTPwGUdZVl"
   },
   "source": [
    "**There are 4 values. We have to use the onehotencoder if we aren't using for sorting purposes.**\n"
   ]
  },
  {
   "cell_type": "code",
   "execution_count": 232,
   "metadata": {
    "executionInfo": {
     "elapsed": 20,
     "status": "ok",
     "timestamp": 1692978699412,
     "user": {
      "displayName": "Caner Ekinci",
      "userId": "08614425171747434730"
     },
     "user_tz": -180
    },
    "id": "bWm9RATkdL2I"
   },
   "outputs": [],
   "source": [
    "# OneHotEncoding for Region\n",
    "region = df.iloc[:, 4:5].values\n",
    "le3 = LabelEncoder()\n",
    "ohe = OneHotEncoder()\n",
    "region[:, 0] = le3.fit_transform(df.iloc[:, 5])\n",
    "region = ohe.fit_transform(region).toarray()"
   ]
  },
  {
   "cell_type": "code",
   "execution_count": 233,
   "metadata": {
    "executionInfo": {
     "elapsed": 20,
     "status": "ok",
     "timestamp": 1692978699412,
     "user": {
      "displayName": "Caner Ekinci",
      "userId": "08614425171747434730"
     },
     "user_tz": -180
    },
    "id": "ERazQn6RdPZW"
   },
   "outputs": [],
   "source": [
    "# Creating dataframe for encoding objects\n",
    "region = pd.DataFrame(region, columns=['northeast', 'northwest', 'southeast', 'southwest'], index=range(1338))\n",
    "sex = pd.DataFrame(sex, columns=['sex'], index=range(1338))\n",
    "smoker = pd.DataFrame(smoker, columns=['smoker'], index=range(1338))"
   ]
  },
  {
   "cell_type": "code",
   "execution_count": 234,
   "metadata": {
    "executionInfo": {
     "elapsed": 20,
     "status": "ok",
     "timestamp": 1692978699412,
     "user": {
      "displayName": "Caner Ekinci",
      "userId": "08614425171747434730"
     },
     "user_tz": -180
    },
    "id": "zGQUW2oWdVE4"
   },
   "outputs": [],
   "source": [
    "# Concat independent and dependent variables\n",
    "x = pd.concat([df.iloc[:, [0, 2, 3]], region], axis=1)\n",
    "x = pd.concat([x, sex], axis=1)\n",
    "x = pd.concat([x, smoker], axis=1)\n",
    "y = df['charges']"
   ]
  },
  {
   "cell_type": "code",
   "execution_count": 235,
   "metadata": {
    "executionInfo": {
     "elapsed": 19,
     "status": "ok",
     "timestamp": 1692978699412,
     "user": {
      "displayName": "Caner Ekinci",
      "userId": "08614425171747434730"
     },
     "user_tz": -180
    },
    "id": "35a5O2LzdYXZ"
   },
   "outputs": [],
   "source": [
    "# all columns\n",
    "df = pd.concat([x, y], axis=1)"
   ]
  },
  {
   "cell_type": "markdown",
   "metadata": {
    "id": "FBa0P_sQdsWS"
   },
   "source": [
    "### Train Test Split"
   ]
  },
  {
   "cell_type": "code",
   "execution_count": 236,
   "metadata": {
    "colab": {
     "base_uri": "https://localhost:8080/",
     "height": 424
    },
    "executionInfo": {
     "elapsed": 19,
     "status": "ok",
     "timestamp": 1692978699412,
     "user": {
      "displayName": "Caner Ekinci",
      "userId": "08614425171747434730"
     },
     "user_tz": -180
    },
    "id": "J4QhIa8wteXu",
    "outputId": "de43fb56-e1e9-478f-efe1-4b87c900b180"
   },
   "outputs": [
    {
     "data": {
      "text/html": [
       "\n",
       "  <div id=\"df-bf351fe6-18f2-4ad1-8f2c-0d2ffcecc6ef\" class=\"colab-df-container\">\n",
       "    <div>\n",
       "<style scoped>\n",
       "    .dataframe tbody tr th:only-of-type {\n",
       "        vertical-align: middle;\n",
       "    }\n",
       "\n",
       "    .dataframe tbody tr th {\n",
       "        vertical-align: top;\n",
       "    }\n",
       "\n",
       "    .dataframe thead th {\n",
       "        text-align: right;\n",
       "    }\n",
       "</style>\n",
       "<table border=\"1\" class=\"dataframe\">\n",
       "  <thead>\n",
       "    <tr style=\"text-align: right;\">\n",
       "      <th></th>\n",
       "      <th>age</th>\n",
       "      <th>bmi</th>\n",
       "      <th>children</th>\n",
       "      <th>northeast</th>\n",
       "      <th>northwest</th>\n",
       "      <th>southeast</th>\n",
       "      <th>southwest</th>\n",
       "      <th>sex</th>\n",
       "      <th>smoker</th>\n",
       "      <th>charges</th>\n",
       "    </tr>\n",
       "  </thead>\n",
       "  <tbody>\n",
       "    <tr>\n",
       "      <th>0</th>\n",
       "      <td>19</td>\n",
       "      <td>27.900</td>\n",
       "      <td>0</td>\n",
       "      <td>0.0</td>\n",
       "      <td>0.0</td>\n",
       "      <td>0.0</td>\n",
       "      <td>1.0</td>\n",
       "      <td>0</td>\n",
       "      <td>1</td>\n",
       "      <td>16884.92400</td>\n",
       "    </tr>\n",
       "    <tr>\n",
       "      <th>1</th>\n",
       "      <td>18</td>\n",
       "      <td>33.770</td>\n",
       "      <td>1</td>\n",
       "      <td>0.0</td>\n",
       "      <td>0.0</td>\n",
       "      <td>1.0</td>\n",
       "      <td>0.0</td>\n",
       "      <td>1</td>\n",
       "      <td>0</td>\n",
       "      <td>1725.55230</td>\n",
       "    </tr>\n",
       "    <tr>\n",
       "      <th>2</th>\n",
       "      <td>28</td>\n",
       "      <td>33.000</td>\n",
       "      <td>3</td>\n",
       "      <td>0.0</td>\n",
       "      <td>0.0</td>\n",
       "      <td>1.0</td>\n",
       "      <td>0.0</td>\n",
       "      <td>1</td>\n",
       "      <td>0</td>\n",
       "      <td>4449.46200</td>\n",
       "    </tr>\n",
       "    <tr>\n",
       "      <th>3</th>\n",
       "      <td>33</td>\n",
       "      <td>22.705</td>\n",
       "      <td>0</td>\n",
       "      <td>0.0</td>\n",
       "      <td>1.0</td>\n",
       "      <td>0.0</td>\n",
       "      <td>0.0</td>\n",
       "      <td>1</td>\n",
       "      <td>0</td>\n",
       "      <td>21984.47061</td>\n",
       "    </tr>\n",
       "    <tr>\n",
       "      <th>4</th>\n",
       "      <td>32</td>\n",
       "      <td>28.880</td>\n",
       "      <td>0</td>\n",
       "      <td>0.0</td>\n",
       "      <td>1.0</td>\n",
       "      <td>0.0</td>\n",
       "      <td>0.0</td>\n",
       "      <td>1</td>\n",
       "      <td>0</td>\n",
       "      <td>3866.85520</td>\n",
       "    </tr>\n",
       "    <tr>\n",
       "      <th>...</th>\n",
       "      <td>...</td>\n",
       "      <td>...</td>\n",
       "      <td>...</td>\n",
       "      <td>...</td>\n",
       "      <td>...</td>\n",
       "      <td>...</td>\n",
       "      <td>...</td>\n",
       "      <td>...</td>\n",
       "      <td>...</td>\n",
       "      <td>...</td>\n",
       "    </tr>\n",
       "    <tr>\n",
       "      <th>1333</th>\n",
       "      <td>50</td>\n",
       "      <td>30.970</td>\n",
       "      <td>3</td>\n",
       "      <td>0.0</td>\n",
       "      <td>1.0</td>\n",
       "      <td>0.0</td>\n",
       "      <td>0.0</td>\n",
       "      <td>1</td>\n",
       "      <td>0</td>\n",
       "      <td>10600.54830</td>\n",
       "    </tr>\n",
       "    <tr>\n",
       "      <th>1334</th>\n",
       "      <td>18</td>\n",
       "      <td>31.920</td>\n",
       "      <td>0</td>\n",
       "      <td>1.0</td>\n",
       "      <td>0.0</td>\n",
       "      <td>0.0</td>\n",
       "      <td>0.0</td>\n",
       "      <td>0</td>\n",
       "      <td>0</td>\n",
       "      <td>2205.98080</td>\n",
       "    </tr>\n",
       "    <tr>\n",
       "      <th>1335</th>\n",
       "      <td>18</td>\n",
       "      <td>36.850</td>\n",
       "      <td>0</td>\n",
       "      <td>0.0</td>\n",
       "      <td>0.0</td>\n",
       "      <td>1.0</td>\n",
       "      <td>0.0</td>\n",
       "      <td>0</td>\n",
       "      <td>0</td>\n",
       "      <td>1629.83350</td>\n",
       "    </tr>\n",
       "    <tr>\n",
       "      <th>1336</th>\n",
       "      <td>21</td>\n",
       "      <td>25.800</td>\n",
       "      <td>0</td>\n",
       "      <td>0.0</td>\n",
       "      <td>0.0</td>\n",
       "      <td>0.0</td>\n",
       "      <td>1.0</td>\n",
       "      <td>0</td>\n",
       "      <td>0</td>\n",
       "      <td>2007.94500</td>\n",
       "    </tr>\n",
       "    <tr>\n",
       "      <th>1337</th>\n",
       "      <td>61</td>\n",
       "      <td>29.070</td>\n",
       "      <td>0</td>\n",
       "      <td>0.0</td>\n",
       "      <td>1.0</td>\n",
       "      <td>0.0</td>\n",
       "      <td>0.0</td>\n",
       "      <td>0</td>\n",
       "      <td>1</td>\n",
       "      <td>29141.36030</td>\n",
       "    </tr>\n",
       "  </tbody>\n",
       "</table>\n",
       "<p>1338 rows × 10 columns</p>\n",
       "</div>\n",
       "    <div class=\"colab-df-buttons\">\n",
       "\n",
       "  <div class=\"colab-df-container\">\n",
       "    <button class=\"colab-df-convert\" onclick=\"convertToInteractive('df-bf351fe6-18f2-4ad1-8f2c-0d2ffcecc6ef')\"\n",
       "            title=\"Convert this dataframe to an interactive table.\"\n",
       "            style=\"display:none;\">\n",
       "\n",
       "  <svg xmlns=\"http://www.w3.org/2000/svg\" height=\"24px\" viewBox=\"0 -960 960 960\">\n",
       "    <path d=\"M120-120v-720h720v720H120Zm60-500h600v-160H180v160Zm220 220h160v-160H400v160Zm0 220h160v-160H400v160ZM180-400h160v-160H180v160Zm440 0h160v-160H620v160ZM180-180h160v-160H180v160Zm440 0h160v-160H620v160Z\"/>\n",
       "  </svg>\n",
       "    </button>\n",
       "\n",
       "  <style>\n",
       "    .colab-df-container {\n",
       "      display:flex;\n",
       "      gap: 12px;\n",
       "    }\n",
       "\n",
       "    .colab-df-convert {\n",
       "      background-color: #E8F0FE;\n",
       "      border: none;\n",
       "      border-radius: 50%;\n",
       "      cursor: pointer;\n",
       "      display: none;\n",
       "      fill: #1967D2;\n",
       "      height: 32px;\n",
       "      padding: 0 0 0 0;\n",
       "      width: 32px;\n",
       "    }\n",
       "\n",
       "    .colab-df-convert:hover {\n",
       "      background-color: #E2EBFA;\n",
       "      box-shadow: 0px 1px 2px rgba(60, 64, 67, 0.3), 0px 1px 3px 1px rgba(60, 64, 67, 0.15);\n",
       "      fill: #174EA6;\n",
       "    }\n",
       "\n",
       "    .colab-df-buttons div {\n",
       "      margin-bottom: 4px;\n",
       "    }\n",
       "\n",
       "    [theme=dark] .colab-df-convert {\n",
       "      background-color: #3B4455;\n",
       "      fill: #D2E3FC;\n",
       "    }\n",
       "\n",
       "    [theme=dark] .colab-df-convert:hover {\n",
       "      background-color: #434B5C;\n",
       "      box-shadow: 0px 1px 3px 1px rgba(0, 0, 0, 0.15);\n",
       "      filter: drop-shadow(0px 1px 2px rgba(0, 0, 0, 0.3));\n",
       "      fill: #FFFFFF;\n",
       "    }\n",
       "  </style>\n",
       "\n",
       "    <script>\n",
       "      const buttonEl =\n",
       "        document.querySelector('#df-bf351fe6-18f2-4ad1-8f2c-0d2ffcecc6ef button.colab-df-convert');\n",
       "      buttonEl.style.display =\n",
       "        google.colab.kernel.accessAllowed ? 'block' : 'none';\n",
       "\n",
       "      async function convertToInteractive(key) {\n",
       "        const element = document.querySelector('#df-bf351fe6-18f2-4ad1-8f2c-0d2ffcecc6ef');\n",
       "        const dataTable =\n",
       "          await google.colab.kernel.invokeFunction('convertToInteractive',\n",
       "                                                    [key], {});\n",
       "        if (!dataTable) return;\n",
       "\n",
       "        const docLinkHtml = 'Like what you see? Visit the ' +\n",
       "          '<a target=\"_blank\" href=https://colab.research.google.com/notebooks/data_table.ipynb>data table notebook</a>'\n",
       "          + ' to learn more about interactive tables.';\n",
       "        element.innerHTML = '';\n",
       "        dataTable['output_type'] = 'display_data';\n",
       "        await google.colab.output.renderOutput(dataTable, element);\n",
       "        const docLink = document.createElement('div');\n",
       "        docLink.innerHTML = docLinkHtml;\n",
       "        element.appendChild(docLink);\n",
       "      }\n",
       "    </script>\n",
       "  </div>\n",
       "\n",
       "\n",
       "<div id=\"df-c0b70899-5dd6-45e6-ab5a-d206c74a1454\">\n",
       "  <button class=\"colab-df-quickchart\" onclick=\"quickchart('df-c0b70899-5dd6-45e6-ab5a-d206c74a1454')\"\n",
       "            title=\"Suggest charts.\"\n",
       "            style=\"display:none;\">\n",
       "\n",
       "<svg xmlns=\"http://www.w3.org/2000/svg\" height=\"24px\"viewBox=\"0 0 24 24\"\n",
       "     width=\"24px\">\n",
       "    <g>\n",
       "        <path d=\"M19 3H5c-1.1 0-2 .9-2 2v14c0 1.1.9 2 2 2h14c1.1 0 2-.9 2-2V5c0-1.1-.9-2-2-2zM9 17H7v-7h2v7zm4 0h-2V7h2v10zm4 0h-2v-4h2v4z\"/>\n",
       "    </g>\n",
       "</svg>\n",
       "  </button>\n",
       "\n",
       "<style>\n",
       "  .colab-df-quickchart {\n",
       "    background-color: #E8F0FE;\n",
       "    border: none;\n",
       "    border-radius: 50%;\n",
       "    cursor: pointer;\n",
       "    display: none;\n",
       "    fill: #1967D2;\n",
       "    height: 32px;\n",
       "    padding: 0 0 0 0;\n",
       "    width: 32px;\n",
       "  }\n",
       "\n",
       "  .colab-df-quickchart:hover {\n",
       "    background-color: #E2EBFA;\n",
       "    box-shadow: 0px 1px 2px rgba(60, 64, 67, 0.3), 0px 1px 3px 1px rgba(60, 64, 67, 0.15);\n",
       "    fill: #174EA6;\n",
       "  }\n",
       "\n",
       "  [theme=dark] .colab-df-quickchart {\n",
       "    background-color: #3B4455;\n",
       "    fill: #D2E3FC;\n",
       "  }\n",
       "\n",
       "  [theme=dark] .colab-df-quickchart:hover {\n",
       "    background-color: #434B5C;\n",
       "    box-shadow: 0px 1px 3px 1px rgba(0, 0, 0, 0.15);\n",
       "    filter: drop-shadow(0px 1px 2px rgba(0, 0, 0, 0.3));\n",
       "    fill: #FFFFFF;\n",
       "  }\n",
       "</style>\n",
       "\n",
       "  <script>\n",
       "    async function quickchart(key) {\n",
       "      const charts = await google.colab.kernel.invokeFunction(\n",
       "          'suggestCharts', [key], {});\n",
       "    }\n",
       "    (() => {\n",
       "      let quickchartButtonEl =\n",
       "        document.querySelector('#df-c0b70899-5dd6-45e6-ab5a-d206c74a1454 button');\n",
       "      quickchartButtonEl.style.display =\n",
       "        google.colab.kernel.accessAllowed ? 'block' : 'none';\n",
       "    })();\n",
       "  </script>\n",
       "</div>\n",
       "    </div>\n",
       "  </div>\n"
      ],
      "text/plain": [
       "      age     bmi  children  northeast  northwest  southeast  southwest  sex  \\\n",
       "0      19  27.900         0        0.0        0.0        0.0        1.0    0   \n",
       "1      18  33.770         1        0.0        0.0        1.0        0.0    1   \n",
       "2      28  33.000         3        0.0        0.0        1.0        0.0    1   \n",
       "3      33  22.705         0        0.0        1.0        0.0        0.0    1   \n",
       "4      32  28.880         0        0.0        1.0        0.0        0.0    1   \n",
       "...   ...     ...       ...        ...        ...        ...        ...  ...   \n",
       "1333   50  30.970         3        0.0        1.0        0.0        0.0    1   \n",
       "1334   18  31.920         0        1.0        0.0        0.0        0.0    0   \n",
       "1335   18  36.850         0        0.0        0.0        1.0        0.0    0   \n",
       "1336   21  25.800         0        0.0        0.0        0.0        1.0    0   \n",
       "1337   61  29.070         0        0.0        1.0        0.0        0.0    0   \n",
       "\n",
       "      smoker      charges  \n",
       "0          1  16884.92400  \n",
       "1          0   1725.55230  \n",
       "2          0   4449.46200  \n",
       "3          0  21984.47061  \n",
       "4          0   3866.85520  \n",
       "...      ...          ...  \n",
       "1333       0  10600.54830  \n",
       "1334       0   2205.98080  \n",
       "1335       0   1629.83350  \n",
       "1336       0   2007.94500  \n",
       "1337       1  29141.36030  \n",
       "\n",
       "[1338 rows x 10 columns]"
      ]
     },
     "execution_count": 236,
     "metadata": {},
     "output_type": "execute_result"
    }
   ],
   "source": [
    "df"
   ]
  },
  {
   "cell_type": "code",
   "execution_count": 237,
   "metadata": {
    "executionInfo": {
     "elapsed": 19,
     "status": "ok",
     "timestamp": 1692978699412,
     "user": {
      "displayName": "Caner Ekinci",
      "userId": "08614425171747434730"
     },
     "user_tz": -180
    },
    "id": "qD9RjpcudvB2"
   },
   "outputs": [],
   "source": [
    "from sklearn.model_selection import train_test_split\n",
    "\n",
    "x = df.iloc[:, 0:-1].values\n",
    "y = df.iloc[:, -1].values\n",
    "# split %67 and %33\n",
    "X_train, X_test, y_train, y_test = train_test_split(x, y, test_size=0.33, random_state=0)"
   ]
  },
  {
   "cell_type": "markdown",
   "metadata": {
    "id": "DP2mwkRSdvvL"
   },
   "source": [
    "### Scaling"
   ]
  },
  {
   "cell_type": "code",
   "execution_count": 238,
   "metadata": {
    "executionInfo": {
     "elapsed": 20,
     "status": "ok",
     "timestamp": 1692978699413,
     "user": {
      "displayName": "Caner Ekinci",
      "userId": "08614425171747434730"
     },
     "user_tz": -180
    },
    "id": "6twXwlQGdxGz"
   },
   "outputs": [],
   "source": [
    "# import the scaler class\n",
    "from sklearn.preprocessing import StandardScaler\n",
    "\n",
    "# Scale X values with StandardScaler(-1, 1)\n",
    "sc = StandardScaler()\n",
    "X_train = sc.fit_transform(X_train)\n",
    "X_test = sc.transform(X_test)"
   ]
  },
  {
   "cell_type": "markdown",
   "metadata": {
    "id": "-b0PVKKRuGTH"
   },
   "source": [
    "## Model Selection"
   ]
  },
  {
   "cell_type": "code",
   "execution_count": 239,
   "metadata": {
    "executionInfo": {
     "elapsed": 20,
     "status": "ok",
     "timestamp": 1692978699413,
     "user": {
      "displayName": "Caner Ekinci",
      "userId": "08614425171747434730"
     },
     "user_tz": -180
    },
    "id": "LL0W6GcsueZA"
   },
   "outputs": [],
   "source": [
    "# import r2_score for compare models.\n",
    "from sklearn.metrics import r2_score"
   ]
  },
  {
   "cell_type": "markdown",
   "metadata": {
    "id": "vAsKdWOFuHUf"
   },
   "source": [
    "### Linear Regression"
   ]
  },
  {
   "cell_type": "code",
   "execution_count": 240,
   "metadata": {
    "colab": {
     "base_uri": "https://localhost:8080/"
    },
    "executionInfo": {
     "elapsed": 19,
     "status": "ok",
     "timestamp": 1692978699413,
     "user": {
      "displayName": "Caner Ekinci",
      "userId": "08614425171747434730"
     },
     "user_tz": -180
    },
    "id": "6W3MNTZLuO8e",
    "outputId": "5fe7c982-c99f-404b-f22a-056f685b9cdf"
   },
   "outputs": [
    {
     "name": "stdout",
     "output_type": "stream",
     "text": [
      "0.7835572099039816\n"
     ]
    }
   ],
   "source": [
    "# Multivariable LinearRegression\n",
    "from sklearn.linear_model import LinearRegression\n",
    "\n",
    "# Fitting and printing r2\n",
    "lr = LinearRegression()\n",
    "lr.fit(X_train, y_train)\n",
    "lr_pred = lr.predict(X_test)\n",
    "\n",
    "print(r2_score(y_test, lr_pred))"
   ]
  },
  {
   "cell_type": "markdown",
   "metadata": {
    "id": "2v-AjFK6urJh"
   },
   "source": [
    "R2 score isn't that high."
   ]
  },
  {
   "cell_type": "markdown",
   "metadata": {
    "id": "951InWYCu-uf"
   },
   "source": [
    "### Support Vector"
   ]
  },
  {
   "cell_type": "code",
   "execution_count": 241,
   "metadata": {
    "colab": {
     "base_uri": "https://localhost:8080/"
    },
    "executionInfo": {
     "elapsed": 17,
     "status": "ok",
     "timestamp": 1692978699413,
     "user": {
      "displayName": "Caner Ekinci",
      "userId": "08614425171747434730"
     },
     "user_tz": -180
    },
    "id": "KVSD4mZNuk1z",
    "outputId": "1a25995b-c591-4925-dea0-10ed59e25a10"
   },
   "outputs": [
    {
     "name": "stdout",
     "output_type": "stream",
     "text": [
      "-0.09537742869467447\n"
     ]
    }
   ],
   "source": [
    "# SVR\n",
    "from sklearn.svm import SVR\n",
    "\n",
    "# Fitting and printing r2\n",
    "svr = SVR(kernel='rbf')\n",
    "svr.fit(X_train, y_train)\n",
    "svr_pred = svr.predict(X_test)\n",
    "\n",
    "print(r2_score(y_test, svr_pred))"
   ]
  },
  {
   "cell_type": "markdown",
   "metadata": {
    "id": "IyLv1DtwvSMW"
   },
   "source": [
    "SVR ML can't be used."
   ]
  },
  {
   "cell_type": "markdown",
   "metadata": {
    "id": "LRYEUtirvFf1"
   },
   "source": [
    "### Ridge Regression"
   ]
  },
  {
   "cell_type": "code",
   "execution_count": 242,
   "metadata": {
    "colab": {
     "base_uri": "https://localhost:8080/"
    },
    "executionInfo": {
     "elapsed": 16,
     "status": "ok",
     "timestamp": 1692978699413,
     "user": {
      "displayName": "Caner Ekinci",
      "userId": "08614425171747434730"
     },
     "user_tz": -180
    },
    "id": "8eYgc63GwRHU",
    "outputId": "702ed2c5-d0b6-49e8-f13f-e127d16cbeb8"
   },
   "outputs": [
    {
     "name": "stdout",
     "output_type": "stream",
     "text": [
      "0.7835833034754301\n"
     ]
    }
   ],
   "source": [
    "# Ridge\n",
    "from sklearn.linear_model import Ridge\n",
    "\n",
    "# Fitting and printing r2\n",
    "ridge = Ridge()\n",
    "ridge.fit(X_train, y_train)\n",
    "ridge_pred = ridge.predict(X_test)\n",
    "\n",
    "print(r2_score(y_test, ridge_pred))"
   ]
  },
  {
   "cell_type": "markdown",
   "metadata": {
    "id": "ow-2Uwnhwl_w"
   },
   "source": [
    "### LASSO"
   ]
  },
  {
   "cell_type": "code",
   "execution_count": 243,
   "metadata": {
    "colab": {
     "base_uri": "https://localhost:8080/"
    },
    "executionInfo": {
     "elapsed": 15,
     "status": "ok",
     "timestamp": 1692978699413,
     "user": {
      "displayName": "Caner Ekinci",
      "userId": "08614425171747434730"
     },
     "user_tz": -180
    },
    "id": "Brrr-8JvxMC6",
    "outputId": "ba1cf0d3-066b-48e5-e8c1-136a933e8be0"
   },
   "outputs": [
    {
     "name": "stdout",
     "output_type": "stream",
     "text": [
      "0.7836635587691938\n"
     ]
    }
   ],
   "source": [
    "# LASSO\n",
    "from sklearn.linear_model import Lasso\n",
    "\n",
    "# Fitting and printing r2\n",
    "lasso = Lasso()\n",
    "lasso.fit(X_train, y_train)\n",
    "lasso_pred = lasso.predict(X_test)\n",
    "\n",
    "print(r2_score(y_test, lasso_pred))"
   ]
  },
  {
   "cell_type": "markdown",
   "metadata": {
    "id": "10rFn3MLxZy1"
   },
   "source": [
    "### Polynomial Regression"
   ]
  },
  {
   "cell_type": "code",
   "execution_count": 244,
   "metadata": {
    "colab": {
     "base_uri": "https://localhost:8080/"
    },
    "executionInfo": {
     "elapsed": 13,
     "status": "ok",
     "timestamp": 1692978699413,
     "user": {
      "displayName": "Caner Ekinci",
      "userId": "08614425171747434730"
     },
     "user_tz": -180
    },
    "id": "Nyxa-V3l7Bg6",
    "outputId": "65954978-144a-4fab-f08a-6512622e5a1a"
   },
   "outputs": [
    {
     "name": "stdout",
     "output_type": "stream",
     "text": [
      "0.8608593901133955\n"
     ]
    }
   ],
   "source": [
    "# Polynomial Regresssion\n",
    "from sklearn.preprocessing import PolynomialFeatures\n",
    "\n",
    "# Transform the X values to polynomial X value with degree\n",
    "poly_feature = PolynomialFeatures(degree=2)\n",
    "X_train_poly = poly_feature.fit_transform(X_train)\n",
    "X_test_poly = poly_feature.transform(X_test)\n",
    "\n",
    "# Fitting and printing r2\n",
    "lr_poly = LinearRegression()\n",
    "lr_poly.fit(X_train_poly, y_train)\n",
    "\n",
    "poly_pred = lr_poly.predict(X_test_poly)\n",
    "print(r2_score(y_test, poly_pred))"
   ]
  },
  {
   "cell_type": "markdown",
   "metadata": {
    "id": "Z32CtDO4DwJ8"
   },
   "source": [
    "### Decision Tree Regression"
   ]
  },
  {
   "cell_type": "code",
   "execution_count": 245,
   "metadata": {
    "colab": {
     "base_uri": "https://localhost:8080/"
    },
    "executionInfo": {
     "elapsed": 12,
     "status": "ok",
     "timestamp": 1692978699414,
     "user": {
      "displayName": "Caner Ekinci",
      "userId": "08614425171747434730"
     },
     "user_tz": -180
    },
    "id": "XTXV3HYUDyBJ",
    "outputId": "09552fdc-d867-4a07-cc46-bbc42a3f0a79"
   },
   "outputs": [
    {
     "name": "stdout",
     "output_type": "stream",
     "text": [
      "0.6649199860188728\n"
     ]
    }
   ],
   "source": [
    "# Decision Tree\n",
    "from sklearn.tree import DecisionTreeRegressor\n",
    "\n",
    "# Fitting and printing r2\n",
    "dtr = DecisionTreeRegressor(random_state=0)\n",
    "dtr.fit(X_train, y_train)\n",
    "\n",
    "dtr_pred = dtr.predict(X_test)\n",
    "print(r2_score(y_test, dtr_pred))"
   ]
  },
  {
   "cell_type": "markdown",
   "metadata": {
    "id": "G_KH4ZjLEcJz"
   },
   "source": [
    "### Random Forest Regression"
   ]
  },
  {
   "cell_type": "code",
   "execution_count": 246,
   "metadata": {
    "colab": {
     "base_uri": "https://localhost:8080/"
    },
    "executionInfo": {
     "elapsed": 307,
     "status": "ok",
     "timestamp": 1692978699711,
     "user": {
      "displayName": "Caner Ekinci",
      "userId": "08614425171747434730"
     },
     "user_tz": -180
    },
    "id": "6Yof3mmOEyCg",
    "outputId": "36532be3-a14c-449c-dfb0-3705ec2269de"
   },
   "outputs": [
    {
     "name": "stdout",
     "output_type": "stream",
     "text": [
      "0.8490688313016741\n"
     ]
    }
   ],
   "source": [
    "# Random Forest\n",
    "from sklearn.ensemble import RandomForestRegressor\n",
    "\n",
    "# Fitting and printing r2\n",
    "rfr = RandomForestRegressor(n_estimators=10, random_state=0)\n",
    "rfr.fit(X_train, y_train)\n",
    "\n",
    "rfr_pred = rfr.predict(X_test)\n",
    "print(r2_score(y_test, rfr_pred))"
   ]
  },
  {
   "cell_type": "markdown",
   "metadata": {
    "id": "jzhHMX1SFGRA"
   },
   "source": [
    "### Stochastic Gradient Descent"
   ]
  },
  {
   "cell_type": "code",
   "execution_count": 247,
   "metadata": {
    "colab": {
     "base_uri": "https://localhost:8080/"
    },
    "executionInfo": {
     "elapsed": 8,
     "status": "ok",
     "timestamp": 1692978699711,
     "user": {
      "displayName": "Caner Ekinci",
      "userId": "08614425171747434730"
     },
     "user_tz": -180
    },
    "id": "kirtTbTkFmfZ",
    "outputId": "622a01b9-fc65-41c4-9be0-ee5443004bec"
   },
   "outputs": [
    {
     "name": "stdout",
     "output_type": "stream",
     "text": [
      "0.7838658018742374\n"
     ]
    }
   ],
   "source": [
    "# Stochastic Gradient Descent\n",
    "from sklearn.linear_model import SGDRegressor\n",
    "\n",
    "# Fitting and printing r2\n",
    "sgdr = SGDRegressor(loss='squared_error')\n",
    "sgdr.fit(X_train, y_train)\n",
    "\n",
    "sgdr_pred = sgdr.predict(X_test)\n",
    "print(r2_score(y_test, sgdr_pred))"
   ]
  },
  {
   "cell_type": "markdown",
   "metadata": {
    "id": "ud69Ud-LGj1o"
   },
   "source": [
    "## K-fold Cross Validation"
   ]
  },
  {
   "cell_type": "markdown",
   "metadata": {
    "id": "yQexHvd3HNXr"
   },
   "source": [
    "Using 10-fold cross validation."
   ]
  },
  {
   "cell_type": "markdown",
   "metadata": {
    "id": "MHTOSRwNHgiN"
   },
   "source": [
    "### Linear Regression"
   ]
  },
  {
   "cell_type": "code",
   "execution_count": 248,
   "metadata": {
    "executionInfo": {
     "elapsed": 6,
     "status": "ok",
     "timestamp": 1692978699711,
     "user": {
      "displayName": "Caner Ekinci",
      "userId": "08614425171747434730"
     },
     "user_tz": -180
    },
    "id": "l-zetrLyG4LW"
   },
   "outputs": [],
   "source": [
    "# Importing cross_val_score for k-fold cross validation\n",
    "from sklearn.model_selection import cross_val_score"
   ]
  },
  {
   "cell_type": "code",
   "execution_count": 262,
   "metadata": {
    "colab": {
     "base_uri": "https://localhost:8080/"
    },
    "executionInfo": {
     "elapsed": 269,
     "status": "ok",
     "timestamp": 1692979483572,
     "user": {
      "displayName": "Caner Ekinci",
      "userId": "08614425171747434730"
     },
     "user_tz": -180
    },
    "id": "u06yg4y4G8ng",
    "outputId": "c5021f49-557e-4507-d902-1990bec69dea"
   },
   "outputs": [
    {
     "name": "stdout",
     "output_type": "stream",
     "text": [
      "Linear Regression Max Score: 0.7958866017970488 Average Score: 0.7151952518561999\n"
     ]
    }
   ],
   "source": [
    "# k-fold\n",
    "lr_cross = cross_val_score(estimator=lr, X=X_train, y=y_train, cv=10)\n",
    "print('Linear Regression Max Score:', lr_cross.max(), 'Average Score:', lr_cross.mean())"
   ]
  },
  {
   "cell_type": "markdown",
   "metadata": {
    "id": "i12aEpo3HeFN"
   },
   "source": [
    "### Support Vector"
   ]
  },
  {
   "cell_type": "code",
   "execution_count": 250,
   "metadata": {
    "colab": {
     "base_uri": "https://localhost:8080/"
    },
    "executionInfo": {
     "elapsed": 461,
     "status": "ok",
     "timestamp": 1692978700170,
     "user": {
      "displayName": "Caner Ekinci",
      "userId": "08614425171747434730"
     },
     "user_tz": -180
    },
    "id": "m2xcfsrbHk23",
    "outputId": "667acedd-290c-4958-886b-8f4119488626"
   },
   "outputs": [
    {
     "name": "stdout",
     "output_type": "stream",
     "text": [
      "SVR Max Score: -0.011023244096272533 Average Score: -0.09945925680552906\n"
     ]
    }
   ],
   "source": [
    "# k-fold\n",
    "svr_cross = cross_val_score(estimator=svr, X=X_train, y=y_train, cv=10)\n",
    "print('SVR Max Score:', svr_cross.max(), 'Average Score:', svr_cross.mean())"
   ]
  },
  {
   "cell_type": "markdown",
   "metadata": {
    "id": "Uano1CzCH08y"
   },
   "source": [
    "Negative values means can't be used for prediction."
   ]
  },
  {
   "cell_type": "markdown",
   "metadata": {
    "id": "f3AzU7amHwGm"
   },
   "source": [
    "### Ridge Regression"
   ]
  },
  {
   "cell_type": "code",
   "execution_count": 251,
   "metadata": {
    "colab": {
     "base_uri": "https://localhost:8080/"
    },
    "executionInfo": {
     "elapsed": 13,
     "status": "ok",
     "timestamp": 1692978700171,
     "user": {
      "displayName": "Caner Ekinci",
      "userId": "08614425171747434730"
     },
     "user_tz": -180
    },
    "id": "uqiZPMIvH7K7",
    "outputId": "56c65b8b-22b2-485c-f6e0-41818b4b73f2"
   },
   "outputs": [
    {
     "name": "stdout",
     "output_type": "stream",
     "text": [
      "Ridge Regression Max Score: 0.7955267302771576 Average Score: 0.7149012949549404\n"
     ]
    }
   ],
   "source": [
    "# k-fold\n",
    "ridge_cross = cross_val_score(estimator=ridge, X=X_train, y=y_train, cv=10)\n",
    "print('Ridge Regression Max Score:', ridge_cross.max(), 'Average Score:', ridge_cross.mean())"
   ]
  },
  {
   "cell_type": "markdown",
   "metadata": {
    "id": "KvejAvGbIHwC"
   },
   "source": [
    "### LASSO"
   ]
  },
  {
   "cell_type": "code",
   "execution_count": 252,
   "metadata": {
    "colab": {
     "base_uri": "https://localhost:8080/"
    },
    "executionInfo": {
     "elapsed": 9,
     "status": "ok",
     "timestamp": 1692978700171,
     "user": {
      "displayName": "Caner Ekinci",
      "userId": "08614425171747434730"
     },
     "user_tz": -180
    },
    "id": "f96kyAZ4ISqv",
    "outputId": "2be1d046-9952-4567-82af-5089856de4e4"
   },
   "outputs": [
    {
     "name": "stdout",
     "output_type": "stream",
     "text": [
      "LASSO Max Score: 0.7956548253060756 Average Score: 0.7148780828526943\n"
     ]
    }
   ],
   "source": [
    "# k-fold\n",
    "lasso_cross = cross_val_score(estimator=lasso, X=X_train, y=y_train, cv=10)\n",
    "print('LASSO Max Score:', lasso_cross.max(), 'Average Score:', lasso_cross.mean())"
   ]
  },
  {
   "cell_type": "markdown",
   "metadata": {
    "id": "XKjEQfV2IdzD"
   },
   "source": [
    "### Polynomial Regression"
   ]
  },
  {
   "cell_type": "code",
   "execution_count": 253,
   "metadata": {
    "colab": {
     "base_uri": "https://localhost:8080/"
    },
    "executionInfo": {
     "elapsed": 6,
     "status": "ok",
     "timestamp": 1692978700171,
     "user": {
      "displayName": "Caner Ekinci",
      "userId": "08614425171747434730"
     },
     "user_tz": -180
    },
    "id": "HdilP_OGIj4T",
    "outputId": "c8cda2b0-8c54-41ac-afb4-89460efff9bb"
   },
   "outputs": [
    {
     "name": "stdout",
     "output_type": "stream",
     "text": [
      "Polynomial Regression Max Score: 0.8546626397364729 Average Score: 0.7980686001435959\n"
     ]
    }
   ],
   "source": [
    "# k-fold\n",
    "poly_cross = cross_val_score(estimator=lr_poly, X=X_train_poly, y=y_train, cv=10)\n",
    "print('Polynomial Regression Max Score:', poly_cross.max(), 'Average Score:', poly_cross.mean())"
   ]
  },
  {
   "cell_type": "markdown",
   "metadata": {
    "id": "9ECQbJ8_Iuvj"
   },
   "source": [
    "### Decision Tree Regression"
   ]
  },
  {
   "cell_type": "code",
   "execution_count": 254,
   "metadata": {
    "colab": {
     "base_uri": "https://localhost:8080/"
    },
    "executionInfo": {
     "elapsed": 4,
     "status": "ok",
     "timestamp": 1692978700171,
     "user": {
      "displayName": "Caner Ekinci",
      "userId": "08614425171747434730"
     },
     "user_tz": -180
    },
    "id": "IiLc2e5HI6_p",
    "outputId": "14bcbb3e-f600-4a0f-fb56-1bb33863c3a8"
   },
   "outputs": [
    {
     "name": "stdout",
     "output_type": "stream",
     "text": [
      "Decision Tree Regressor Max Score: 0.8556026828223272 Average Score: 0.6339491224741043\n"
     ]
    }
   ],
   "source": [
    "# k-fold\n",
    "dtr_cross = cross_val_score(estimator=dtr, X=X_train, y=y_train, cv=10)\n",
    "print('Decision Tree Regressor Max Score:', dtr_cross.max(), 'Average Score:', dtr_cross.mean())"
   ]
  },
  {
   "cell_type": "markdown",
   "metadata": {
    "id": "43GnnzIFcW_O"
   },
   "source": [
    "**Why best score and average score have much that difference? Because of decision tree is overfitting the y_train values. Model cant exceed the beyond y_train values.**"
   ]
  },
  {
   "cell_type": "markdown",
   "metadata": {
    "id": "9-0x_FhKJEJY"
   },
   "source": [
    "### Random Forest Regression"
   ]
  },
  {
   "cell_type": "code",
   "execution_count": 255,
   "metadata": {
    "colab": {
     "base_uri": "https://localhost:8080/"
    },
    "executionInfo": {
     "elapsed": 579,
     "status": "ok",
     "timestamp": 1692978700747,
     "user": {
      "displayName": "Caner Ekinci",
      "userId": "08614425171747434730"
     },
     "user_tz": -180
    },
    "id": "LcmdGJ3ZJMKN",
    "outputId": "f2b0768d-7a71-4b2b-f038-a4726161fd80"
   },
   "outputs": [
    {
     "name": "stdout",
     "output_type": "stream",
     "text": [
      "Random Forest Regressor Max Score: 0.880302760808615 Average Score: 0.7843845225943327\n"
     ]
    }
   ],
   "source": [
    "# k-fold\n",
    "rfr_cross = cross_val_score(estimator=rfr, X=X_train, y=y_train, cv=10)\n",
    "print('Random Forest Regressor Max Score:', rfr_cross.max(), 'Average Score:', rfr_cross.mean())"
   ]
  },
  {
   "cell_type": "markdown",
   "metadata": {
    "id": "jE8K82ueJQ8r"
   },
   "source": [
    "### Stochastic Gradient Descent"
   ]
  },
  {
   "cell_type": "code",
   "execution_count": 256,
   "metadata": {
    "colab": {
     "base_uri": "https://localhost:8080/"
    },
    "executionInfo": {
     "elapsed": 7,
     "status": "ok",
     "timestamp": 1692978700748,
     "user": {
      "displayName": "Caner Ekinci",
      "userId": "08614425171747434730"
     },
     "user_tz": -180
    },
    "id": "zm4aiphzJbx_",
    "outputId": "00851218-24a4-499a-da57-ce4efc521cc2"
   },
   "outputs": [
    {
     "name": "stdout",
     "output_type": "stream",
     "text": [
      "Stochastic Gradient Descent Max Score: 0.7958841021768808 Average Score: 0.7150399976962745\n"
     ]
    }
   ],
   "source": [
    "# k-fold\n",
    "sgdr_cross = cross_val_score(estimator=sgdr, X=X_train, y=y_train, cv=10)\n",
    "print('Stochastic Gradient Descent Max Score:', sgdr_cross.max(), 'Average Score:', sgdr_cross.mean())"
   ]
  },
  {
   "cell_type": "markdown",
   "metadata": {
    "id": "Y95H65SWJi-e"
   },
   "source": [
    "We can interpret Polynomial Regression and Random Forest is best at prediction. For average score Polynomial is best, for max score Random forest is best."
   ]
  },
  {
   "cell_type": "markdown",
   "metadata": {
    "id": "-VeoSdPDJ5-5"
   },
   "source": [
    "## GridSearchCV"
   ]
  },
  {
   "cell_type": "markdown",
   "metadata": {
    "id": "P1SqQnstKMEs"
   },
   "source": [
    "Using GridSearchCV optimization for two models."
   ]
  },
  {
   "cell_type": "code",
   "execution_count": 257,
   "metadata": {
    "executionInfo": {
     "elapsed": 3,
     "status": "ok",
     "timestamp": 1692978700748,
     "user": {
      "displayName": "Caner Ekinci",
      "userId": "08614425171747434730"
     },
     "user_tz": -180
    },
    "id": "1WxMzDsRKaxN"
   },
   "outputs": [],
   "source": [
    "from sklearn.model_selection import GridSearchCV"
   ]
  },
  {
   "cell_type": "code",
   "execution_count": 258,
   "metadata": {
    "colab": {
     "base_uri": "https://localhost:8080/"
    },
    "executionInfo": {
     "elapsed": 467,
     "status": "ok",
     "timestamp": 1692978701213,
     "user": {
      "displayName": "Caner Ekinci",
      "userId": "08614425171747434730"
     },
     "user_tz": -180
    },
    "id": "hG1yMdBAOUWY",
    "outputId": "911d3b8a-c30b-494a-bdc7-49562111ce8f"
   },
   "outputs": [
    {
     "name": "stdout",
     "output_type": "stream",
     "text": [
      "0.7987893764748406\n",
      "{'fit_intercept': False}\n"
     ]
    }
   ],
   "source": [
    "rf_p = [\n",
    "    {'fit_intercept': [True, False]}\n",
    "]\n",
    "\n",
    "gs = GridSearchCV(\n",
    "      estimator = lr_poly,\n",
    "      param_grid = rf_p,\n",
    "      scoring = 'r2',\n",
    "      cv = 10,\n",
    "      n_jobs = -1\n",
    "    )\n",
    "grid_search_poly = gs.fit(X_train_poly, y_train)\n",
    "print(grid_search_poly.best_score_)\n",
    "print(grid_search_poly.best_params_)"
   ]
  },
  {
   "cell_type": "code",
   "execution_count": 259,
   "metadata": {
    "colab": {
     "base_uri": "https://localhost:8080/"
    },
    "executionInfo": {
     "elapsed": 237642,
     "status": "ok",
     "timestamp": 1692978938854,
     "user": {
      "displayName": "Caner Ekinci",
      "userId": "08614425171747434730"
     },
     "user_tz": -180
    },
    "id": "iKu5LT_OPPrK",
    "outputId": "f16273c4-c60b-4a42-cc05-3862fabd4412"
   },
   "outputs": [
    {
     "name": "stderr",
     "output_type": "stream",
     "text": [
      "/usr/local/lib/python3.10/dist-packages/joblib/externals/loky/process_executor.py:752: UserWarning: A worker stopped while some jobs were given to the executor. This can be caused by a too short worker timeout or by a memory leak.\n",
      "  warnings.warn(\n"
     ]
    },
    {
     "name": "stdout",
     "output_type": "stream",
     "text": [
      "0.7999390429549765\n",
      "{'n_estimators': 1000}\n"
     ]
    }
   ],
   "source": [
    "rfr_p = [\n",
    "    {'n_estimators':[10, 100, 1000, 10000]}\n",
    "]\n",
    "\n",
    "gs = GridSearchCV(\n",
    "    estimator = rfr,\n",
    "    param_grid = rfr_p,\n",
    "    scoring = 'r2',\n",
    "    cv = 10,\n",
    "    n_jobs = -1\n",
    ")\n",
    "\n",
    "grid_search_rfr = gs.fit(X_train, y_train)\n",
    "print(grid_search_rfr.best_score_)\n",
    "print(grid_search_rfr.best_params_)"
   ]
  },
  {
   "cell_type": "markdown",
   "metadata": {
    "id": "GEHlW_lDdFdz"
   },
   "source": [
    "## Model Evaluation"
   ]
  },
  {
   "cell_type": "code",
   "execution_count": 263,
   "metadata": {
    "executionInfo": {
     "elapsed": 322,
     "status": "ok",
     "timestamp": 1692979763498,
     "user": {
      "displayName": "Caner Ekinci",
      "userId": "08614425171747434730"
     },
     "user_tz": -180
    },
    "id": "Dc7inrjWdLJn"
   },
   "outputs": [],
   "source": [
    "from sklearn.metrics import mean_squared_error, mean_absolute_error"
   ]
  },
  {
   "cell_type": "code",
   "execution_count": 264,
   "metadata": {
    "executionInfo": {
     "elapsed": 270,
     "status": "ok",
     "timestamp": 1692979918238,
     "user": {
      "displayName": "Caner Ekinci",
      "userId": "08614425171747434730"
     },
     "user_tz": -180
    },
    "id": "Vai-4HwTdSyX"
   },
   "outputs": [],
   "source": [
    "# Error evaluation for Polynomial Regression and Random Forest\n",
    "\n",
    "# GridSearchCV prediction for X_tests\n",
    "grid_search_poly_pred = grid_search_poly.predict(X_test_poly)\n",
    "grid_search_rfr_pred = grid_search_rfr.predict(X_test)"
   ]
  },
  {
   "cell_type": "code",
   "execution_count": 265,
   "metadata": {
    "colab": {
     "base_uri": "https://localhost:8080/"
    },
    "executionInfo": {
     "elapsed": 5,
     "status": "ok",
     "timestamp": 1692980004274,
     "user": {
      "displayName": "Caner Ekinci",
      "userId": "08614425171747434730"
     },
     "user_tz": -180
    },
    "id": "x7oQtP36d362",
    "outputId": "bd48389d-35ae-40c8-96d3-c1ca558a0270"
   },
   "outputs": [
    {
     "name": "stdout",
     "output_type": "stream",
     "text": [
      "22256777.907328088\n",
      "3010.6822957217196\n"
     ]
    }
   ],
   "source": [
    "# Polynomial Regression mean_squared_error and mean_absolute_error\n",
    "print(mean_squared_error(y_test, grid_search_poly_pred))\n",
    "print(mean_absolute_error(y_test, grid_search_poly_pred))"
   ]
  },
  {
   "cell_type": "code",
   "execution_count": 266,
   "metadata": {
    "colab": {
     "base_uri": "https://localhost:8080/"
    },
    "executionInfo": {
     "elapsed": 371,
     "status": "ok",
     "timestamp": 1692980045255,
     "user": {
      "displayName": "Caner Ekinci",
      "userId": "08614425171747434730"
     },
     "user_tz": -180
    },
    "id": "hClZb07aeNLS",
    "outputId": "e1e9a103-f169-47fc-f14b-187c26ded4f8"
   },
   "outputs": [
    {
     "name": "stdout",
     "output_type": "stream",
     "text": [
      "22434215.473457966\n",
      "2833.9062392420874\n"
     ]
    }
   ],
   "source": [
    "print(mean_squared_error(y_test, grid_search_rfr_pred))\n",
    "print(mean_absolute_error(y_test, grid_search_rfr_pred))"
   ]
  },
  {
   "cell_type": "markdown",
   "metadata": {
    "id": "bMVJ4hE6TG7W"
   },
   "source": [
    "***This is final evaluation of two models. Random Forest model's result is better than Polynomial Regression's. But is error values are bad or good thing? Charges values are between 1000 and 60000 and standard deviation is 12000. There is a generally 2880 and 3000 value difference prediction and test value. These values dependent on you for interpretion.***"
   ]
  }
 ],
 "metadata": {
  "colab": {
   "authorship_tag": "ABX9TyPZMZqEnpXkJ6xaHlnqhyyD",
   "provenance": [],
   "toc_visible": true
  },
  "kernelspec": {
   "display_name": "Python 3 (ipykernel)",
   "language": "python",
   "name": "python3"
  },
  "language_info": {
   "codemirror_mode": {
    "name": "ipython",
    "version": 3
   },
   "file_extension": ".py",
   "mimetype": "text/x-python",
   "name": "python",
   "nbconvert_exporter": "python",
   "pygments_lexer": "ipython3",
   "version": "3.10.11"
  }
 },
 "nbformat": 4,
 "nbformat_minor": 1
}
